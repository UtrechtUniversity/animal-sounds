{
 "cells": [
  {
   "cell_type": "markdown",
   "metadata": {},
   "source": [
    "# SVM results and predictions"
   ]
  },
  {
   "cell_type": "code",
   "execution_count": 3,
   "metadata": {},
   "outputs": [],
   "source": [
    "import glob\n",
    "import pandas as pd\n",
    "import matplotlib.pyplot as plt \n",
    "from numpy import loadtxt\n",
    "from sklearn.metrics import confusion_matrix, classification_report, recall_score, accuracy_score\n",
    "from sklearn.preprocessing import StandardScaler\n",
    "from pickle import load\n",
    "\n",
    "# importing sys\n",
    "import sys\n",
    "  \n",
    "# adding Folder_2 to the system path\n",
    "sys.path.insert(0, '../../bioacoustics/3_classifier')\n",
    "from model.svm_model import SVM_model\n"
   ]
  },
  {
   "cell_type": "code",
   "execution_count": 4,
   "metadata": {},
   "outputs": [],
   "source": [
    "def read_preds(pred_file):\n",
    "    preds = loadtxt(pred_file, dtype= str, delimiter='\\n', unpack=False)\n",
    "    print(len(pd.Series(preds)))\n",
    "    return preds\n",
    "\n",
    "def read_pred_probs(pred_file):\n",
    "    pred_prob = pd.read_csv(pred_file)\n",
    "    return pred_prob.apply(lambda x : x.max(), axis=1)\n",
    "\n",
    "def read_y_test(y_test_file):\n",
    "    y_test = pd.read_csv(y_test_file)\n",
    "    print(y_test.shape)\n",
    "    return y_test\n",
    "\n",
    "def get_confusion_matrix(y_test,preds):\n",
    "    labels=['background','chimpanze']\n",
    "    cm = confusion_matrix(y_test,preds)\n",
    "\n",
    "    print(cm)\n",
    "    fig = plt.figure()\n",
    "    ax = fig.add_subplot(111)\n",
    "    cax = ax.matshow(cm)\n",
    "    fig.colorbar(cax)\n",
    "    ax.set_xticklabels([''] + labels)\n",
    "    ax.set_yticklabels([''] + labels)\n",
    "    plt.xlabel('Predicted')\n",
    "    plt.ylabel('True')\n",
    "    plt.xticks(rotation=90)\n",
    "    plt.show()\n",
    "    \n",
    "def get_classification_report(y_test, preds):\n",
    "    cr = classification_report(y_test, preds , output_dict=True)\n",
    "    return pd.DataFrame(cr).transpose()\n",
    "\n",
    "def read_svm_results(path):\n",
    "    svm_all_preds = read_preds(path + '/_predictions.txt')\n",
    "    svm_all_y_test = read_y_test(path + '/_y_test.csv')\n",
    "    return svm_all_preds, svm_all_y_test \n",
    "\n",
    "def normalize(x_test, svm_dir):\n",
    "    scaler = load(open(svm_dir + 'scaler/scaler.pkl', 'rb'))\n",
    "    x_test_scaled = scaler.transform(x_test)\n",
    "    return x_test_scaled\n",
    "\n",
    "\n",
    "def read_file(file, dim):\n",
    "    df = pd.read_csv(file)\n",
    "    x = df.iloc[:, dim[0]:dim[1]]\n",
    "    y = df['label_1']\n",
    "    return x, y \n",
    "\n",
    "\n",
    "def filter_features(data, file, numfeat = 50):\n",
    "    df = pd.read_csv(file)\n",
    "    indices = list(df.sort_values(by=['feature_importances'], ascending=False).index[0:numfeat])\n",
    "    return data[:, indices]\n",
    "\n",
    "\n",
    "def read_files(file_path, dim, feature_file):\n",
    "    files = glob.glob(file_path)\n",
    "    print(files)\n",
    "    for i in range(len(files)):\n",
    "        if i == 0:\n",
    "            x, y = read_file(files[i], dim)\n",
    "        else:\n",
    "            temp_x, temp_y = read_file(files[i], dim)\n",
    "            x = pd.concat([x, temp_x], sort=False)\n",
    "            y = pd.concat([y, temp_y], sort=False)\n",
    "    \n",
    "    \n",
    "    x = filter_features(x.to_numpy(), feature_file)\n",
    "    return x, y\n",
    "\n",
    "\n",
    "def run_svm(x_test, y_test, model_path, output_dir):\n",
    "    s = SVM_model()\n",
    "    s.predict_model(x_test, model_path, dl_model=False)\n",
    "    s.save_results(y_test, output_dir)"
   ]
  },
  {
   "cell_type": "markdown",
   "metadata": {},
   "source": [
    "## Scenario 1: Sanctuary only "
   ]
  },
  {
   "cell_type": "markdown",
   "metadata": {},
   "source": [
    "### Step 1: Plot test results"
   ]
  },
  {
   "cell_type": "code",
   "execution_count": 5,
   "metadata": {},
   "outputs": [
    {
     "name": "stdout",
     "output_type": "stream",
     "text": [
      "18414\n",
      "(18414, 1)\n"
     ]
    }
   ],
   "source": [
    "svm_dir = '../svm-model/sanctuary/'\n",
    "preds, targets = read_svm_results(svm_dir)"
   ]
  },
  {
   "cell_type": "code",
   "execution_count": 6,
   "metadata": {},
   "outputs": [
    {
     "name": "stdout",
     "output_type": "stream",
     "text": [
      "[[13750  1081]\n",
      " [  247  3336]]\n"
     ]
    },
    {
     "name": "stderr",
     "output_type": "stream",
     "text": [
      "/tmp/ipykernel_108296/3485394455.py:24: UserWarning: FixedFormatter should only be used together with FixedLocator\n",
      "  ax.set_xticklabels([''] + labels)\n",
      "/tmp/ipykernel_108296/3485394455.py:25: UserWarning: FixedFormatter should only be used together with FixedLocator\n",
      "  ax.set_yticklabels([''] + labels)\n"
     ]
    },
    {
     "data": {
      "image/png": "[encoded data removed]",
      "text/plain": [
       "<Figure size 432x288 with 2 Axes>"
      ]
     },
     "metadata": {
      "needs_background": "light"
     },
     "output_type": "display_data"
    }
   ],
   "source": [
    "get_confusion_matrix(targets,preds)"
   ]
  },
  {
   "cell_type": "code",
   "execution_count": 7,
   "metadata": {},
   "outputs": [
    {
     "data": {
      "text/html": [
       "<div>\n",
       "<style scoped>\n",
       "    .dataframe tbody tr th:only-of-type {\n",
       "        vertical-align: middle;\n",
       "    }\n",
       "\n",
       "    .dataframe tbody tr th {\n",
       "        vertical-align: top;\n",
       "    }\n",
       "\n",
       "    .dataframe thead th {\n",
       "        text-align: right;\n",
       "    }\n",
       "</style>\n",
       "<table border=\"1\" class=\"dataframe\">\n",
       "  <thead>\n",
       "    <tr style=\"text-align: right;\">\n",
       "      <th></th>\n",
       "      <th>precision</th>\n",
       "      <th>recall</th>\n",
       "      <th>f1-score</th>\n",
       "      <th>support</th>\n",
       "    </tr>\n",
       "  </thead>\n",
       "  <tbody>\n",
       "    <tr>\n",
       "      <th>background</th>\n",
       "      <td>0.982353</td>\n",
       "      <td>0.927112</td>\n",
       "      <td>0.953934</td>\n",
       "      <td>14831.000000</td>\n",
       "    </tr>\n",
       "    <tr>\n",
       "      <th>chimpanze</th>\n",
       "      <td>0.755264</td>\n",
       "      <td>0.931063</td>\n",
       "      <td>0.834000</td>\n",
       "      <td>3583.000000</td>\n",
       "    </tr>\n",
       "    <tr>\n",
       "      <th>accuracy</th>\n",
       "      <td>0.927881</td>\n",
       "      <td>0.927881</td>\n",
       "      <td>0.927881</td>\n",
       "      <td>0.927881</td>\n",
       "    </tr>\n",
       "    <tr>\n",
       "      <th>macro avg</th>\n",
       "      <td>0.868809</td>\n",
       "      <td>0.929088</td>\n",
       "      <td>0.893967</td>\n",
       "      <td>18414.000000</td>\n",
       "    </tr>\n",
       "    <tr>\n",
       "      <th>weighted avg</th>\n",
       "      <td>0.938166</td>\n",
       "      <td>0.927881</td>\n",
       "      <td>0.930597</td>\n",
       "      <td>18414.000000</td>\n",
       "    </tr>\n",
       "  </tbody>\n",
       "</table>\n",
       "</div>"
      ],
      "text/plain": [
       "              precision    recall  f1-score       support\n",
       "background     0.982353  0.927112  0.953934  14831.000000\n",
       "chimpanze      0.755264  0.931063  0.834000   3583.000000\n",
       "accuracy       0.927881  0.927881  0.927881      0.927881\n",
       "macro avg      0.868809  0.929088  0.893967  18414.000000\n",
       "weighted avg   0.938166  0.927881  0.930597  18414.000000"
      ]
     },
     "execution_count": 7,
     "metadata": {},
     "output_type": "execute_result"
    }
   ],
   "source": [
    "get_classification_report(targets,preds)"
   ]
  },
  {
   "cell_type": "markdown",
   "metadata": {},
   "source": [
    "### Step 2: Predict Sanaga sanctuary"
   ]
  },
  {
   "cell_type": "markdown",
   "metadata": {},
   "source": [
    "#### Apply svm"
   ]
  },
  {
   "cell_type": "code",
   "execution_count": 6,
   "metadata": {},
   "outputs": [
    {
     "name": "stdout",
     "output_type": "stream",
     "text": [
      "['/home/jelle/Repositories/animalsounds/data/features/features_v7/features_sanct/chimps_sanc_24000.csv', '/home/jelle/Repositories/animalsounds/data/features/features_v7/features_sanct/bg_sanc_chimp_24000.csv']\n",
      "['/home/jelle/Repositories/animalsounds/data/features/test/sanaga/test_bg_24000.csv', '/home/jelle/Repositories/animalsounds/data/features/test/sanaga/test_chimp_24000.csv']\n"
     ]
    },
    {
     "name": "stderr",
     "output_type": "stream",
     "text": [
      "/home/jelle/anaconda3/envs/animal-sounds/lib/python3.8/site-packages/sklearn/base.py:329: UserWarning: Trying to unpickle estimator StandardScaler from version 0.24.1 when using version 1.0.2. This might lead to breaking code or invalid results. Use at your own risk. For more info please refer to:\n",
      "https://scikit-learn.org/stable/modules/model_persistence.html#security-maintainability-limitations\n",
      "  warnings.warn(\n",
      "/home/jelle/anaconda3/envs/animal-sounds/lib/python3.8/site-packages/sklearn/base.py:329: UserWarning: Trying to unpickle estimator SVC from version 0.24.1 when using version 1.0.2. This might lead to breaking code or invalid results. Use at your own risk. For more info please refer to:\n",
      "https://scikit-learn.org/stable/modules/model_persistence.html#security-maintainability-limitations\n",
      "  warnings.warn(\n",
      "/home/jelle/anaconda3/envs/animal-sounds/lib/python3.8/site-packages/sklearn/base.py:329: UserWarning: Trying to unpickle estimator GridSearchCV from version 0.24.1 when using version 1.0.2. This might lead to breaking code or invalid results. Use at your own risk. For more info please refer to:\n",
      "https://scikit-learn.org/stable/modules/model_persistence.html#security-maintainability-limitations\n",
      "  warnings.warn(\n"
     ]
    },
    {
     "name": "stdout",
     "output_type": "stream",
     "text": [
      "prediction is done!\n"
     ]
    }
   ],
   "source": [
    "train_path = '/home/jelle/Repositories/animalsounds/data/features/features_v7/features_sanct/*'\n",
    "test_path = '/home/jelle/Repositories/animalsounds/data/features/test/sanaga/*'\n",
    "output_dir = svm_dir + 'predictions/'\n",
    "\n",
    "feature_file = svm_dir + 'feature_importances.csv'\n",
    "model_path = svm_dir + 'sanctuary_svm_model.sav'\n",
    "\n",
    "dim = [5, -1]\n",
    "\n",
    "x_train, y_train = read_files(train_path, dim, feature_file)\n",
    "x_test, y_test = read_files(test_path, dim, feature_file)\n",
    "\n",
    "x_test = normalize(x_test, svm_dir)\n",
    "\n",
    "run_svm(x_test, y_test, model_path, output_dir)"
   ]
  },
  {
   "cell_type": "code",
   "execution_count": 7,
   "metadata": {},
   "outputs": [
    {
     "name": "stdout",
     "output_type": "stream",
     "text": [
      "112168\n",
      "(112168, 1)\n"
     ]
    }
   ],
   "source": [
    "preds, targets = read_svm_results(svm_dir + 'predictions/')"
   ]
  },
  {
   "cell_type": "code",
   "execution_count": 8,
   "metadata": {},
   "outputs": [
    {
     "data": {
      "text/plain": [
       "array(['background', 'chimpanze'], dtype=object)"
      ]
     },
     "execution_count": 8,
     "metadata": {},
     "output_type": "execute_result"
    }
   ],
   "source": [
    "import numpy as np\n",
    "targets[targets == 'chimp'] = 'chimpanze'\n",
    "np.unique(targets)"
   ]
  },
  {
   "cell_type": "code",
   "execution_count": 9,
   "metadata": {},
   "outputs": [
    {
     "name": "stdout",
     "output_type": "stream",
     "text": [
      "[[54560 12325]\n",
      " [ 4373 40910]]\n"
     ]
    },
    {
     "name": "stderr",
     "output_type": "stream",
     "text": [
      "/tmp/ipykernel_99456/3485394455.py:24: UserWarning: FixedFormatter should only be used together with FixedLocator\n",
      "  ax.set_xticklabels([''] + labels)\n",
      "/tmp/ipykernel_99456/3485394455.py:25: UserWarning: FixedFormatter should only be used together with FixedLocator\n",
      "  ax.set_yticklabels([''] + labels)\n"
     ]
    },
    {
     "data": {
      "image/png": "[encoded data removed]",
      "text/plain": [
       "<Figure size 432x288 with 2 Axes>"
      ]
     },
     "metadata": {
      "needs_background": "light"
     },
     "output_type": "display_data"
    }
   ],
   "source": [
    "get_confusion_matrix(targets,preds)"
   ]
  },
  {
   "cell_type": "code",
   "execution_count": 10,
   "metadata": {},
   "outputs": [
    {
     "data": {
      "text/html": [
       "<div>\n",
       "<style scoped>\n",
       "    .dataframe tbody tr th:only-of-type {\n",
       "        vertical-align: middle;\n",
       "    }\n",
       "\n",
       "    .dataframe tbody tr th {\n",
       "        vertical-align: top;\n",
       "    }\n",
       "\n",
       "    .dataframe thead th {\n",
       "        text-align: right;\n",
       "    }\n",
       "</style>\n",
       "<table border=\"1\" class=\"dataframe\">\n",
       "  <thead>\n",
       "    <tr style=\"text-align: right;\">\n",
       "      <th></th>\n",
       "      <th>precision</th>\n",
       "      <th>recall</th>\n",
       "      <th>f1-score</th>\n",
       "      <th>support</th>\n",
       "    </tr>\n",
       "  </thead>\n",
       "  <tbody>\n",
       "    <tr>\n",
       "      <th>background</th>\n",
       "      <td>0.925797</td>\n",
       "      <td>0.815728</td>\n",
       "      <td>0.867284</td>\n",
       "      <td>66885.000000</td>\n",
       "    </tr>\n",
       "    <tr>\n",
       "      <th>chimpanze</th>\n",
       "      <td>0.768479</td>\n",
       "      <td>0.903430</td>\n",
       "      <td>0.830508</td>\n",
       "      <td>45283.000000</td>\n",
       "    </tr>\n",
       "    <tr>\n",
       "      <th>accuracy</th>\n",
       "      <td>0.851134</td>\n",
       "      <td>0.851134</td>\n",
       "      <td>0.851134</td>\n",
       "      <td>0.851134</td>\n",
       "    </tr>\n",
       "    <tr>\n",
       "      <th>macro avg</th>\n",
       "      <td>0.847138</td>\n",
       "      <td>0.859579</td>\n",
       "      <td>0.848896</td>\n",
       "      <td>112168.000000</td>\n",
       "    </tr>\n",
       "    <tr>\n",
       "      <th>weighted avg</th>\n",
       "      <td>0.862287</td>\n",
       "      <td>0.851134</td>\n",
       "      <td>0.852438</td>\n",
       "      <td>112168.000000</td>\n",
       "    </tr>\n",
       "  </tbody>\n",
       "</table>\n",
       "</div>"
      ],
      "text/plain": [
       "              precision    recall  f1-score        support\n",
       "background     0.925797  0.815728  0.867284   66885.000000\n",
       "chimpanze      0.768479  0.903430  0.830508   45283.000000\n",
       "accuracy       0.851134  0.851134  0.851134       0.851134\n",
       "macro avg      0.847138  0.859579  0.848896  112168.000000\n",
       "weighted avg   0.862287  0.851134  0.852438  112168.000000"
      ]
     },
     "execution_count": 10,
     "metadata": {},
     "output_type": "execute_result"
    }
   ],
   "source": [
    "get_classification_report(targets,preds)"
   ]
  },
  {
   "cell_type": "markdown",
   "metadata": {},
   "source": [
    "## Scenario 2: Sanctuary + Synthetic"
   ]
  },
  {
   "cell_type": "markdown",
   "metadata": {},
   "source": [
    "### Step 1: Plot Test results"
   ]
  },
  {
   "cell_type": "code",
   "execution_count": 4,
   "metadata": {},
   "outputs": [
    {
     "name": "stdout",
     "output_type": "stream",
     "text": [
      "51593\n",
      "(51593, 1)\n"
     ]
    }
   ],
   "source": [
    "preds_file = (folder_all + '_predictions.txt')\n",
    "labels_file = (folder_all + '_y_test.csv')\n",
    "preds, targets = read_svm_results(preds_file, labels_file)"
   ]
  },
  {
   "cell_type": "code",
   "execution_count": 5,
   "metadata": {},
   "outputs": [
    {
     "name": "stdout",
     "output_type": "stream",
     "text": [
      "[[32033  2227]\n",
      " [ 3087 14246]]\n"
     ]
    },
    {
     "data": {
      "image/png": "[encoded data removed]",
      "text/plain": [
       "<Figure size 432x288 with 2 Axes>"
      ]
     },
     "metadata": {
      "needs_background": "light"
     },
     "output_type": "display_data"
    }
   ],
   "source": [
    "get_confusion_matrix(targets,preds)"
   ]
  },
  {
   "cell_type": "code",
   "execution_count": 6,
   "metadata": {},
   "outputs": [
    {
     "data": {
      "text/html": [
       "<div>\n",
       "<style scoped>\n",
       "    .dataframe tbody tr th:only-of-type {\n",
       "        vertical-align: middle;\n",
       "    }\n",
       "\n",
       "    .dataframe tbody tr th {\n",
       "        vertical-align: top;\n",
       "    }\n",
       "\n",
       "    .dataframe thead th {\n",
       "        text-align: right;\n",
       "    }\n",
       "</style>\n",
       "<table border=\"1\" class=\"dataframe\">\n",
       "  <thead>\n",
       "    <tr style=\"text-align: right;\">\n",
       "      <th></th>\n",
       "      <th>precision</th>\n",
       "      <th>recall</th>\n",
       "      <th>f1-score</th>\n",
       "      <th>support</th>\n",
       "    </tr>\n",
       "  </thead>\n",
       "  <tbody>\n",
       "    <tr>\n",
       "      <th>background</th>\n",
       "      <td>0.912101</td>\n",
       "      <td>0.934997</td>\n",
       "      <td>0.923407</td>\n",
       "      <td>34260.000000</td>\n",
       "    </tr>\n",
       "    <tr>\n",
       "      <th>chimpanze</th>\n",
       "      <td>0.864809</td>\n",
       "      <td>0.821900</td>\n",
       "      <td>0.842809</td>\n",
       "      <td>17333.000000</td>\n",
       "    </tr>\n",
       "    <tr>\n",
       "      <th>accuracy</th>\n",
       "      <td>0.897002</td>\n",
       "      <td>0.897002</td>\n",
       "      <td>0.897002</td>\n",
       "      <td>0.897002</td>\n",
       "    </tr>\n",
       "    <tr>\n",
       "      <th>macro avg</th>\n",
       "      <td>0.888455</td>\n",
       "      <td>0.878449</td>\n",
       "      <td>0.883108</td>\n",
       "      <td>51593.000000</td>\n",
       "    </tr>\n",
       "    <tr>\n",
       "      <th>weighted avg</th>\n",
       "      <td>0.896213</td>\n",
       "      <td>0.897002</td>\n",
       "      <td>0.896330</td>\n",
       "      <td>51593.000000</td>\n",
       "    </tr>\n",
       "  </tbody>\n",
       "</table>\n",
       "</div>"
      ],
      "text/plain": [
       "              precision    recall  f1-score       support\n",
       "background     0.912101  0.934997  0.923407  34260.000000\n",
       "chimpanze      0.864809  0.821900  0.842809  17333.000000\n",
       "accuracy       0.897002  0.897002  0.897002      0.897002\n",
       "macro avg      0.888455  0.878449  0.883108  51593.000000\n",
       "weighted avg   0.896213  0.897002  0.896330  51593.000000"
      ]
     },
     "execution_count": 6,
     "metadata": {},
     "output_type": "execute_result"
    }
   ],
   "source": [
    "get_classification_report(targets,preds)"
   ]
  },
  {
   "cell_type": "markdown",
   "metadata": {},
   "source": [
    "### Step 2: Prediction Sanaga test set"
   ]
  },
  {
   "cell_type": "code",
   "execution_count": 8,
   "metadata": {},
   "outputs": [
    {
     "name": "stdout",
     "output_type": "stream",
     "text": [
      "['/home/jelle/Repositories/animalsounds/data/features/features_v7/features_sanctsynth/chimps_sanc_24000.csv', '/home/jelle/Repositories/animalsounds/data/features/features_v7/features_sanctsynth/chimps_synt_jungle_24000.csv', '/home/jelle/Repositories/animalsounds/data/features/features_v7/features_sanctsynth/bg_synth_24000.csv', '/home/jelle/Repositories/animalsounds/data/features/features_v7/features_sanctsynth/bg_sanc_chimp_24000.csv']\n",
      "['/home/jelle/Repositories/animalsounds/data/features/test/sanaga/test_bg_24000.csv', '/home/jelle/Repositories/animalsounds/data/features/test/sanaga/test_chimp_24000.csv']\n"
     ]
    },
    {
     "name": "stderr",
     "output_type": "stream",
     "text": [
      "/home/jelle/anaconda3/lib/python3.8/site-packages/sklearn/base.py:329: UserWarning: Trying to unpickle estimator SVC from version 0.24.1 when using version 0.23.1. This might lead to breaking code or invalid results. Use at your own risk.\n",
      "  warnings.warn(\n",
      "/home/jelle/anaconda3/lib/python3.8/site-packages/sklearn/base.py:329: UserWarning: Trying to unpickle estimator GridSearchCV from version 0.24.1 when using version 0.23.1. This might lead to breaking code or invalid results. Use at your own risk.\n",
      "  warnings.warn(\n"
     ]
    },
    {
     "name": "stdout",
     "output_type": "stream",
     "text": [
      "prediction is done!\n"
     ]
    }
   ],
   "source": [
    "train_path = '/home/jelle/Repositories/animalsounds/data/features/features_v7/features_sanctsynth/*'\n",
    "test_path = '/home/jelle/Repositories/animalsounds/data/features/test/sanaga/*'\n",
    "output_dir = '/home/jelle/Repositories/animal-sounds/data/svm_results/prediction_results/all/'\n",
    "\n",
    "feature_file = '../../data/svm_results/training_all/feature_importances.csv'\n",
    "model_folder = '../../data/svm_results/training_all/_acoustic_model.sav'\n",
    "\n",
    "dim = [5, -1]\n",
    "\n",
    "x_train, y_train = read_files(train_path, dim, feature_file)\n",
    "x_test, y_test = read_files(test_path, dim, feature_file)\n",
    "\n",
    "x_train, x_test = normalize(x_train, x_test)\n",
    "\n",
    "run_svm(x_train, y_train, x_test, y_test, output_dir, model_folder)"
   ]
  },
  {
   "cell_type": "code",
   "execution_count": 9,
   "metadata": {},
   "outputs": [
    {
     "name": "stdout",
     "output_type": "stream",
     "text": [
      "112168\n",
      "(112168, 1)\n"
     ]
    }
   ],
   "source": [
    "preds_file = ('../../data/svm_results/prediction_results/all/_predictions.txt')\n",
    "labels_file = ('../../data/svm_results/prediction_results/all/_y_test.csv')\n",
    "preds, targets = read_svm_results(preds_file, labels_file)"
   ]
  },
  {
   "cell_type": "code",
   "execution_count": 11,
   "metadata": {},
   "outputs": [
    {
     "data": {
      "text/plain": [
       "array(['background', 'chimpanze'], dtype=object)"
      ]
     },
     "execution_count": 11,
     "metadata": {},
     "output_type": "execute_result"
    }
   ],
   "source": [
    "import numpy as np\n",
    "targets[targets == 'chimp'] = 'chimpanze'\n",
    "np.unique(targets)"
   ]
  },
  {
   "cell_type": "code",
   "execution_count": 12,
   "metadata": {},
   "outputs": [
    {
     "name": "stdout",
     "output_type": "stream",
     "text": [
      "[[40261 26624]\n",
      " [ 1624 43659]]\n"
     ]
    },
    {
     "data": {
      "image/png": "[encoded data removed]",
      "text/plain": [
       "<Figure size 432x288 with 2 Axes>"
      ]
     },
     "metadata": {
      "needs_background": "light"
     },
     "output_type": "display_data"
    }
   ],
   "source": [
    "get_confusion_matrix(targets,preds)"
   ]
  },
  {
   "cell_type": "code",
   "execution_count": 13,
   "metadata": {},
   "outputs": [
    {
     "data": {
      "text/html": [
       "<div>\n",
       "<style scoped>\n",
       "    .dataframe tbody tr th:only-of-type {\n",
       "        vertical-align: middle;\n",
       "    }\n",
       "\n",
       "    .dataframe tbody tr th {\n",
       "        vertical-align: top;\n",
       "    }\n",
       "\n",
       "    .dataframe thead th {\n",
       "        text-align: right;\n",
       "    }\n",
       "</style>\n",
       "<table border=\"1\" class=\"dataframe\">\n",
       "  <thead>\n",
       "    <tr style=\"text-align: right;\">\n",
       "      <th></th>\n",
       "      <th>precision</th>\n",
       "      <th>recall</th>\n",
       "      <th>f1-score</th>\n",
       "      <th>support</th>\n",
       "    </tr>\n",
       "  </thead>\n",
       "  <tbody>\n",
       "    <tr>\n",
       "      <th>background</th>\n",
       "      <td>0.961227</td>\n",
       "      <td>0.601944</td>\n",
       "      <td>0.740296</td>\n",
       "      <td>66885.000000</td>\n",
       "    </tr>\n",
       "    <tr>\n",
       "      <th>chimpanze</th>\n",
       "      <td>0.621189</td>\n",
       "      <td>0.964137</td>\n",
       "      <td>0.755568</td>\n",
       "      <td>45283.000000</td>\n",
       "    </tr>\n",
       "    <tr>\n",
       "      <th>accuracy</th>\n",
       "      <td>0.748163</td>\n",
       "      <td>0.748163</td>\n",
       "      <td>0.748163</td>\n",
       "      <td>0.748163</td>\n",
       "    </tr>\n",
       "    <tr>\n",
       "      <th>macro avg</th>\n",
       "      <td>0.791208</td>\n",
       "      <td>0.783040</td>\n",
       "      <td>0.747932</td>\n",
       "      <td>112168.000000</td>\n",
       "    </tr>\n",
       "    <tr>\n",
       "      <th>weighted avg</th>\n",
       "      <td>0.823951</td>\n",
       "      <td>0.748163</td>\n",
       "      <td>0.746462</td>\n",
       "      <td>112168.000000</td>\n",
       "    </tr>\n",
       "  </tbody>\n",
       "</table>\n",
       "</div>"
      ],
      "text/plain": [
       "              precision    recall  f1-score        support\n",
       "background     0.961227  0.601944  0.740296   66885.000000\n",
       "chimpanze      0.621189  0.964137  0.755568   45283.000000\n",
       "accuracy       0.748163  0.748163  0.748163       0.748163\n",
       "macro avg      0.791208  0.783040  0.747932  112168.000000\n",
       "weighted avg   0.823951  0.748163  0.746462  112168.000000"
      ]
     },
     "execution_count": 13,
     "metadata": {},
     "output_type": "execute_result"
    }
   ],
   "source": [
    "get_classification_report(targets,preds)"
   ]
  }
 ],
 "metadata": {
  "kernelspec": {
   "display_name": "Python 3 (ipykernel)",
   "language": "python",
   "name": "python3"
  },
  "language_info": {
   "codemirror_mode": {
    "name": "ipython",
    "version": 3
   },
   "file_extension": ".py",
   "mimetype": "text/x-python",
   "name": "python",
   "nbconvert_exporter": "python",
   "pygments_lexer": "ipython3",
   "version": "3.8.12"
  }
 },
 "nbformat": 4,
 "nbformat_minor": 4
}
