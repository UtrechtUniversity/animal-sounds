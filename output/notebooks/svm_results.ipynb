{
 "cells": [
  {
   "cell_type": "markdown",
   "metadata": {},
   "source": [
    "# SVM results and predictions"
   ]
  },
  {
   "cell_type": "code",
   "execution_count": 2,
   "metadata": {},
   "outputs": [],
   "source": [
    "import glob\n",
    "\n",
    "import numpy as np\n",
    "import matplotlib.pyplot as plt \n",
    "from numpy import loadtxt\n",
    "from sklearn.metrics import confusion_matrix, classification_report, recall_score, accuracy_score\n",
    "from sklearn.preprocessing import StandardScaler\n",
    "from pickle import load\n",
    "\n",
    "# importing sys\n",
    "import sys\n",
    "  \n",
    "# adding Folder_2 to the system path\n",
    "sys.path.insert(0, '../../bioacoustics/3_classifier')\n",
    "from model.svm_model import SVM_model\n",
    "from data_preparation_svm import normalize\n",
    "\n",
    "import predict\n",
    "\n",
    "import warnings\n",
    "warnings.simplefilter(action='ignore', category=FutureWarning)\n",
    "import pandas as pd\n"
   ]
  },
  {
   "cell_type": "code",
   "execution_count": 4,
   "metadata": {},
   "outputs": [
    {
     "data": {
      "text/plain": [
       "'/home/User/Desktop/'"
      ]
     },
     "execution_count": 4,
     "metadata": {},
     "output_type": "execute_result"
    }
   ],
   "source": [
    "import os\n",
    "\n",
    "path = '/home/User/Desktop/file.txt'\n",
    "  \n",
    "# Split the path in \n",
    "# head and tail pair\n",
    "os.path.split(path)[0]+'/'\n",
    "  "
   ]
  },
  {
   "cell_type": "code",
   "execution_count": 5,
   "metadata": {},
   "outputs": [],
   "source": [
    "def read_preds(pred_file):\n",
    "    preds = loadtxt(pred_file, dtype= str, delimiter='\\n', unpack=False)\n",
    "    print(len(pd.Series(preds)))\n",
    "    return preds\n",
    "\n",
    "def read_pred_probs(pred_file):\n",
    "    pred_prob = pd.read_csv(pred_file)\n",
    "    return pred_prob.apply(lambda x : x.max(), axis=1)\n",
    "\n",
    "def read_y_test(y_test_file):\n",
    "    y_test = pd.read_csv(y_test_file)\n",
    "    print(y_test.shape)\n",
    "    return y_test\n",
    "\n",
    "def get_confusion_matrix(y_test,preds, file=None):\n",
    "    labels=['background','chimpanze']\n",
    "    cm = confusion_matrix(y_test,preds, normalize='true')\n",
    "\n",
    "    print(cm)\n",
    "    plt = plot_confusion_matrix(cm, ['background', 'chimpanze'], cmap='Blues', file=file)\n",
    "    return plt\n",
    "    \n",
    "def get_classification_report(y_test, preds):\n",
    "    cr = classification_report(y_test, preds , output_dict=True)\n",
    "    return pd.DataFrame(cr).transpose()\n",
    "\n",
    "def read_svm_results(path):\n",
    "    svm_all_preds = read_preds(path + '/_predictions.txt')\n",
    "    svm_all_y_test = read_y_test(path + '/_y_test.csv')\n",
    "    return svm_all_preds, svm_all_y_test \n",
    "\n",
    "def read_file(file, dim):\n",
    "    df = pd.read_csv(file)\n",
    "    x = df.iloc[:, dim[0]:dim[1]]\n",
    "    y = df['label_1']\n",
    "    return x, y \n",
    "\n",
    "def filter_features(data, file, numfeat = 50):\n",
    "    df = pd.read_csv(file)\n",
    "    indices = list(df.sort_values(by=['feature_importances'], ascending=False).index[0:numfeat])\n",
    "    return data[:, indices]\n",
    "\n",
    "def read_files(file_path, dim, svm_dir):\n",
    "    feature_file = svm_dir + 'feature_importances.csv'\n",
    "    files = glob.glob(file_path)\n",
    "    print(files)\n",
    "    for i in range(len(files)):\n",
    "        if i == 0:\n",
    "            x, y = read_file(files[i], dim)\n",
    "        else:\n",
    "            temp_x, temp_y = read_file(files[i], dim)\n",
    "            x = pd.concat([x, temp_x], sort=False)\n",
    "            y = pd.concat([y, temp_y], sort=False)\n",
    "    \n",
    "    \n",
    "    x = filter_features(x.to_numpy(), feature_file)\n",
    "    return x, y\n",
    "\n",
    "def run_svm(x_test, y_test, svm_dir):\n",
    "    model_path = svm_dir + 'svm_model.sav'\n",
    "    output_dir = svm_dir + 'predictions/'+folder+'/'\n",
    "    s = SVM_model()\n",
    "    s.predict_model(x_test, model_path, dl_model=False)\n",
    "    s.save_results(y_test, output_dir)\n",
    "    \n",
    "def plot_confusion_matrix(cm,\n",
    "                          target_names,\n",
    "                          title='Confusion matrix',\n",
    "                          cmap=None,\n",
    "                          normalize=True, \n",
    "                          file=None):\n",
    "    \"\"\"\n",
    "    given a sklearn confusion matrix (cm), make a nice plot\n",
    "\n",
    "    Arguments\n",
    "    ---------\n",
    "    cm:           confusion matrix from sklearn.metrics.confusion_matrix\n",
    "\n",
    "    target_names: given classification classes such as [0, 1, 2]\n",
    "                  the class names, for example: ['high', 'medium', 'low']\n",
    "\n",
    "    title:        the text to display at the top of the matrix\n",
    "\n",
    "    cmap:         the gradient of the values displayed from matplotlib.pyplot.cm\n",
    "                  see http://matplotlib.org/examples/color/colormaps_reference.html\n",
    "                  plt.get_cmap('jet') or plt.cm.Blues\n",
    "\n",
    "    normalize:    If False, plot the raw numbers\n",
    "                  If True, plot the proportions\n",
    "\n",
    "    Usage\n",
    "    -----\n",
    "    plot_confusion_matrix(cm           = cm,                  # confusion matrix created by\n",
    "                                                              # sklearn.metrics.confusion_matrix\n",
    "                          normalize    = True,                # show proportions\n",
    "                          target_names = y_labels_vals,       # list of names of the classes\n",
    "                          title        = best_estimator_name) # title of graph\n",
    "\n",
    "    Citiation\n",
    "    ---------\n",
    "    http://scikit-learn.org/stable/auto_examples/model_selection/plot_confusion_matrix.html\n",
    "\n",
    "    \"\"\"\n",
    "    import matplotlib.pyplot as plt\n",
    "    import numpy as np\n",
    "    import itertools\n",
    "\n",
    "    accuracy = np.trace(cm) / np.sum(cm).astype('float')\n",
    "    misclass = 1 - accuracy\n",
    "\n",
    "    if cmap is None:\n",
    "        cmap = plt.get_cmap('Blues')\n",
    "\n",
    "    plt.figure(figsize=(8, 6))\n",
    "    plt.imshow(cm, interpolation='nearest', cmap=cmap)\n",
    "    plt.title(title)\n",
    "    plt.colorbar()\n",
    "\n",
    "    if target_names is not None:\n",
    "        tick_marks = np.arange(len(target_names))\n",
    "        plt.xticks(tick_marks, target_names, rotation=45)\n",
    "        plt.yticks(tick_marks, target_names)\n",
    "\n",
    "    if normalize:\n",
    "        cm = cm.astype('float') / cm.sum(axis=1)[:, np.newaxis]\n",
    "\n",
    "\n",
    "    thresh = cm.max() / 1.5 if normalize else cm.max() / 2\n",
    "    for i, j in itertools.product(range(cm.shape[0]), range(cm.shape[1])):\n",
    "        if normalize:\n",
    "            plt.text(j, i, \"{:0.4f}\".format(cm[i, j]),\n",
    "                     horizontalalignment=\"center\",\n",
    "                     color=\"white\" if cm[i, j] > thresh else \"black\")\n",
    "        else:\n",
    "            plt.text(j, i, \"{:,}\".format(cm[i, j]),\n",
    "                     horizontalalignment=\"center\",\n",
    "                     color=\"white\" if cm[i, j] > thresh else \"black\")\n",
    "\n",
    "\n",
    "    plt.tight_layout()\n",
    "    plt.ylabel('True label')\n",
    "    plt.xlabel('Predicted label\\naccuracy={:0.4f}; misclass={:0.4f}'.format(accuracy, misclass))\n",
    "    if file:\n",
    "        plt.savefig(file) \n",
    "        \n",
    "    plt.show()\n",
    "    return plt\n",
    "    "
   ]
  },
  {
   "cell_type": "markdown",
   "metadata": {},
   "source": [
    "## Scenario 1: Sanctuary data only "
   ]
  },
  {
   "cell_type": "markdown",
   "metadata": {},
   "source": [
    "### Step 1: Plot test results"
   ]
  },
  {
   "cell_type": "code",
   "execution_count": 7,
   "metadata": {},
   "outputs": [
    {
     "name": "stdout",
     "output_type": "stream",
     "text": [
      "18414\n",
      "(18414, 1)\n"
     ]
    }
   ],
   "source": [
    "svm_dir = '../models/svm/sanctuary/'\n",
    "preds, targets = read_svm_results(svm_dir)"
   ]
  },
  {
   "cell_type": "code",
   "execution_count": 30,
   "metadata": {},
   "outputs": [
    {
     "name": "stdout",
     "output_type": "stream",
     "text": [
      "[[0.94066482 0.05933518]\n",
      " [0.05972649 0.94027351]]\n"
     ]
    },
    {
     "data": {
      "image/png": "[encoded data removed]",
      "text/plain": [
       "<Figure size 576x432 with 2 Axes>"
      ]
     },
     "metadata": {
      "needs_background": "light"
     },
     "output_type": "display_data"
    },
    {
     "data": {
      "text/plain": [
       "<module 'matplotlib.pyplot' from '/home/jelle/anaconda3/envs/animal-sounds/lib/python3.8/site-packages/matplotlib/pyplot.py'>"
      ]
     },
     "execution_count": 30,
     "metadata": {},
     "output_type": "execute_result"
    }
   ],
   "source": [
    "get_confusion_matrix(targets,preds)"
   ]
  },
  {
   "cell_type": "code",
   "execution_count": 31,
   "metadata": {},
   "outputs": [
    {
     "data": {
      "text/html": [
       "<div>\n",
       "<style scoped>\n",
       "    .dataframe tbody tr th:only-of-type {\n",
       "        vertical-align: middle;\n",
       "    }\n",
       "\n",
       "    .dataframe tbody tr th {\n",
       "        vertical-align: top;\n",
       "    }\n",
       "\n",
       "    .dataframe thead th {\n",
       "        text-align: right;\n",
       "    }\n",
       "</style>\n",
       "<table border=\"1\" class=\"dataframe\">\n",
       "  <thead>\n",
       "    <tr style=\"text-align: right;\">\n",
       "      <th></th>\n",
       "      <th>precision</th>\n",
       "      <th>recall</th>\n",
       "      <th>f1-score</th>\n",
       "      <th>support</th>\n",
       "    </tr>\n",
       "  </thead>\n",
       "  <tbody>\n",
       "    <tr>\n",
       "      <th>background</th>\n",
       "      <td>0.984892</td>\n",
       "      <td>0.940665</td>\n",
       "      <td>0.962271</td>\n",
       "      <td>14831.000000</td>\n",
       "    </tr>\n",
       "    <tr>\n",
       "      <th>chimpanze</th>\n",
       "      <td>0.792892</td>\n",
       "      <td>0.940274</td>\n",
       "      <td>0.860317</td>\n",
       "      <td>3583.000000</td>\n",
       "    </tr>\n",
       "    <tr>\n",
       "      <th>accuracy</th>\n",
       "      <td>0.940589</td>\n",
       "      <td>0.940589</td>\n",
       "      <td>0.940589</td>\n",
       "      <td>0.940589</td>\n",
       "    </tr>\n",
       "    <tr>\n",
       "      <th>macro avg</th>\n",
       "      <td>0.888892</td>\n",
       "      <td>0.940469</td>\n",
       "      <td>0.911294</td>\n",
       "      <td>18414.000000</td>\n",
       "    </tr>\n",
       "    <tr>\n",
       "      <th>weighted avg</th>\n",
       "      <td>0.947533</td>\n",
       "      <td>0.940589</td>\n",
       "      <td>0.942432</td>\n",
       "      <td>18414.000000</td>\n",
       "    </tr>\n",
       "  </tbody>\n",
       "</table>\n",
       "</div>"
      ],
      "text/plain": [
       "              precision    recall  f1-score       support\n",
       "background     0.984892  0.940665  0.962271  14831.000000\n",
       "chimpanze      0.792892  0.940274  0.860317   3583.000000\n",
       "accuracy       0.940589  0.940589  0.940589      0.940589\n",
       "macro avg      0.888892  0.940469  0.911294  18414.000000\n",
       "weighted avg   0.947533  0.940589  0.942432  18414.000000"
      ]
     },
     "execution_count": 31,
     "metadata": {},
     "output_type": "execute_result"
    }
   ],
   "source": [
    "get_classification_report(targets,preds)"
   ]
  },
  {
   "cell_type": "markdown",
   "metadata": {},
   "source": [
    "### Step 2: Predict Using sanctuary"
   ]
  },
  {
   "cell_type": "markdown",
   "metadata": {},
   "source": [
    "#### Apply svm"
   ]
  },
  {
   "cell_type": "code",
   "execution_count": 8,
   "metadata": {},
   "outputs": [
    {
     "name": "stdout",
     "output_type": "stream",
     "text": [
      "['../features/svm/sanaga/A6/A6_background_24000.csv', '../features/svm/sanaga/A6/A6_chimpanze_24000.csv']\n"
     ]
    },
    {
     "name": "stderr",
     "output_type": "stream",
     "text": [
      "/home/jelle/anaconda3/envs/animal-sounds/lib/python3.8/site-packages/sklearn/base.py:329: UserWarning: Trying to unpickle estimator StandardScaler from version 0.24.1 when using version 1.1.1. This might lead to breaking code or invalid results. Use at your own risk. For more info please refer to:\n",
      "https://scikit-learn.org/stable/model_persistence.html#security-maintainability-limitations\n",
      "  warnings.warn(\n",
      "/home/jelle/anaconda3/envs/animal-sounds/lib/python3.8/site-packages/sklearn/base.py:329: UserWarning: Trying to unpickle estimator SVC from version 0.24.1 when using version 1.1.1. This might lead to breaking code or invalid results. Use at your own risk. For more info please refer to:\n",
      "https://scikit-learn.org/stable/model_persistence.html#security-maintainability-limitations\n",
      "  warnings.warn(\n",
      "/home/jelle/anaconda3/envs/animal-sounds/lib/python3.8/site-packages/sklearn/base.py:329: UserWarning: Trying to unpickle estimator GridSearchCV from version 0.24.1 when using version 1.1.1. This might lead to breaking code or invalid results. Use at your own risk. For more info please refer to:\n",
      "https://scikit-learn.org/stable/model_persistence.html#security-maintainability-limitations\n",
      "  warnings.warn(\n"
     ]
    },
    {
     "name": "stdout",
     "output_type": "stream",
     "text": [
      "prediction is done!\n",
      "['../features/svm/sanaga/A21/A21_chimpanze_24000.csv', '../features/svm/sanaga/A21/A21_background_24000.csv']\n"
     ]
    },
    {
     "name": "stderr",
     "output_type": "stream",
     "text": [
      "/home/jelle/anaconda3/envs/animal-sounds/lib/python3.8/site-packages/sklearn/base.py:329: UserWarning: Trying to unpickle estimator StandardScaler from version 0.24.1 when using version 1.1.1. This might lead to breaking code or invalid results. Use at your own risk. For more info please refer to:\n",
      "https://scikit-learn.org/stable/model_persistence.html#security-maintainability-limitations\n",
      "  warnings.warn(\n",
      "/home/jelle/anaconda3/envs/animal-sounds/lib/python3.8/site-packages/sklearn/base.py:329: UserWarning: Trying to unpickle estimator SVC from version 0.24.1 when using version 1.1.1. This might lead to breaking code or invalid results. Use at your own risk. For more info please refer to:\n",
      "https://scikit-learn.org/stable/model_persistence.html#security-maintainability-limitations\n",
      "  warnings.warn(\n",
      "/home/jelle/anaconda3/envs/animal-sounds/lib/python3.8/site-packages/sklearn/base.py:329: UserWarning: Trying to unpickle estimator GridSearchCV from version 0.24.1 when using version 1.1.1. This might lead to breaking code or invalid results. Use at your own risk. For more info please refer to:\n",
      "https://scikit-learn.org/stable/model_persistence.html#security-maintainability-limitations\n",
      "  warnings.warn(\n"
     ]
    },
    {
     "name": "stdout",
     "output_type": "stream",
     "text": [
      "prediction is done!\n",
      "['../features/svm/sanaga/A38/A38_background_24000.csv', '../features/svm/sanaga/A38/A38_chimpanze_24000.csv']\n"
     ]
    },
    {
     "name": "stderr",
     "output_type": "stream",
     "text": [
      "/home/jelle/anaconda3/envs/animal-sounds/lib/python3.8/site-packages/sklearn/base.py:329: UserWarning: Trying to unpickle estimator StandardScaler from version 0.24.1 when using version 1.1.1. This might lead to breaking code or invalid results. Use at your own risk. For more info please refer to:\n",
      "https://scikit-learn.org/stable/model_persistence.html#security-maintainability-limitations\n",
      "  warnings.warn(\n",
      "/home/jelle/anaconda3/envs/animal-sounds/lib/python3.8/site-packages/sklearn/base.py:329: UserWarning: Trying to unpickle estimator SVC from version 0.24.1 when using version 1.1.1. This might lead to breaking code or invalid results. Use at your own risk. For more info please refer to:\n",
      "https://scikit-learn.org/stable/model_persistence.html#security-maintainability-limitations\n",
      "  warnings.warn(\n",
      "/home/jelle/anaconda3/envs/animal-sounds/lib/python3.8/site-packages/sklearn/base.py:329: UserWarning: Trying to unpickle estimator GridSearchCV from version 0.24.1 when using version 1.1.1. This might lead to breaking code or invalid results. Use at your own risk. For more info please refer to:\n",
      "https://scikit-learn.org/stable/model_persistence.html#security-maintainability-limitations\n",
      "  warnings.warn(\n"
     ]
    },
    {
     "name": "stdout",
     "output_type": "stream",
     "text": [
      "prediction is done!\n"
     ]
    }
   ],
   "source": [
    "folders = ['A6', 'A21', 'A38']\n",
    "for folder in folders:\n",
    "    test_path = '../features/svm/sanaga/' + folder + '/*'\n",
    "\n",
    "    x_test, y_test = read_files(test_path, [5, -1], svm_dir)\n",
    "    x_test = normalize(x_test, svm_dir)\n",
    "\n",
    "    run_svm(x_test, y_test, svm_dir)"
   ]
  },
  {
   "cell_type": "code",
   "execution_count": 9,
   "metadata": {},
   "outputs": [
    {
     "name": "stdout",
     "output_type": "stream",
     "text": [
      "112168\n",
      "(112168, 1)\n"
     ]
    },
    {
     "data": {
      "text/plain": [
       "array(['background', 'chimpanze'], dtype=object)"
      ]
     },
     "execution_count": 9,
     "metadata": {},
     "output_type": "execute_result"
    }
   ],
   "source": [
    "folder = 'A6'\n",
    "\n",
    "preds, targets = read_svm_results(svm_dir + 'predictions/' + folder + '/')\n",
    "targets[targets == 'chimp'] = 'chimpanze'\n",
    "np.unique(targets)"
   ]
  },
  {
   "cell_type": "code",
   "execution_count": 10,
   "metadata": {},
   "outputs": [
    {
     "name": "stdout",
     "output_type": "stream",
     "text": [
      "[[0.81580324 0.18419676]\n",
      " [0.09657046 0.90342954]]\n"
     ]
    },
    {
     "data": {
      "image/png": "[encoded data removed]",
      "text/plain": [
       "<Figure size 576x432 with 2 Axes>"
      ]
     },
     "metadata": {
      "needs_background": "light"
     },
     "output_type": "display_data"
    },
    {
     "data": {
      "text/plain": [
       "<module 'matplotlib.pyplot' from '/home/jelle/anaconda3/envs/animal-sounds/lib/python3.8/site-packages/matplotlib/pyplot.py'>"
      ]
     },
     "execution_count": 10,
     "metadata": {},
     "output_type": "execute_result"
    }
   ],
   "source": [
    "get_confusion_matrix(targets,preds)"
   ]
  },
  {
   "cell_type": "code",
   "execution_count": 11,
   "metadata": {},
   "outputs": [
    {
     "data": {
      "text/html": [
       "<div>\n",
       "<style scoped>\n",
       "    .dataframe tbody tr th:only-of-type {\n",
       "        vertical-align: middle;\n",
       "    }\n",
       "\n",
       "    .dataframe tbody tr th {\n",
       "        vertical-align: top;\n",
       "    }\n",
       "\n",
       "    .dataframe thead th {\n",
       "        text-align: right;\n",
       "    }\n",
       "</style>\n",
       "<table border=\"1\" class=\"dataframe\">\n",
       "  <thead>\n",
       "    <tr style=\"text-align: right;\">\n",
       "      <th></th>\n",
       "      <th>precision</th>\n",
       "      <th>recall</th>\n",
       "      <th>f1-score</th>\n",
       "      <th>support</th>\n",
       "    </tr>\n",
       "  </thead>\n",
       "  <tbody>\n",
       "    <tr>\n",
       "      <th>background</th>\n",
       "      <td>0.925803</td>\n",
       "      <td>0.815803</td>\n",
       "      <td>0.867330</td>\n",
       "      <td>66885.000000</td>\n",
       "    </tr>\n",
       "    <tr>\n",
       "      <th>chimpanze</th>\n",
       "      <td>0.768552</td>\n",
       "      <td>0.903430</td>\n",
       "      <td>0.830550</td>\n",
       "      <td>45283.000000</td>\n",
       "    </tr>\n",
       "    <tr>\n",
       "      <th>accuracy</th>\n",
       "      <td>0.851179</td>\n",
       "      <td>0.851179</td>\n",
       "      <td>0.851179</td>\n",
       "      <td>0.851179</td>\n",
       "    </tr>\n",
       "    <tr>\n",
       "      <th>macro avg</th>\n",
       "      <td>0.847177</td>\n",
       "      <td>0.859616</td>\n",
       "      <td>0.848940</td>\n",
       "      <td>112168.000000</td>\n",
       "    </tr>\n",
       "    <tr>\n",
       "      <th>weighted avg</th>\n",
       "      <td>0.862320</td>\n",
       "      <td>0.851179</td>\n",
       "      <td>0.852481</td>\n",
       "      <td>112168.000000</td>\n",
       "    </tr>\n",
       "  </tbody>\n",
       "</table>\n",
       "</div>"
      ],
      "text/plain": [
       "              precision    recall  f1-score        support\n",
       "background     0.925803  0.815803  0.867330   66885.000000\n",
       "chimpanze      0.768552  0.903430  0.830550   45283.000000\n",
       "accuracy       0.851179  0.851179  0.851179       0.851179\n",
       "macro avg      0.847177  0.859616  0.848940  112168.000000\n",
       "weighted avg   0.862320  0.851179  0.852481  112168.000000"
      ]
     },
     "execution_count": 11,
     "metadata": {},
     "output_type": "execute_result"
    }
   ],
   "source": [
    "get_classification_report(targets,preds)"
   ]
  },
  {
   "cell_type": "code",
   "execution_count": 10,
   "metadata": {},
   "outputs": [
    {
     "name": "stdout",
     "output_type": "stream",
     "text": [
      "40610\n",
      "(40610, 1)\n"
     ]
    },
    {
     "data": {
      "text/plain": [
       "array(['background', 'chimpanze'], dtype=object)"
      ]
     },
     "execution_count": 10,
     "metadata": {},
     "output_type": "execute_result"
    }
   ],
   "source": [
    "folder = 'A21'\n",
    "\n",
    "preds, targets = read_svm_results(svm_dir + 'predictions/' + folder + '/')\n",
    "targets[targets == 'chimp'] = 'chimpanze'\n",
    "np.unique(targets)"
   ]
  },
  {
   "cell_type": "code",
   "execution_count": 11,
   "metadata": {},
   "outputs": [
    {
     "name": "stdout",
     "output_type": "stream",
     "text": [
      "[[0.9796315  0.0203685 ]\n",
      " [0.57046811 0.42953189]]\n"
     ]
    },
    {
     "data": {
      "image/png": "[encoded data removed]",
      "text/plain": [
       "<Figure size 576x432 with 2 Axes>"
      ]
     },
     "metadata": {
      "needs_background": "light"
     },
     "output_type": "display_data"
    }
   ],
   "source": [
    "get_confusion_matrix(targets,preds)"
   ]
  },
  {
   "cell_type": "code",
   "execution_count": 12,
   "metadata": {},
   "outputs": [
    {
     "data": {
      "text/html": [
       "<div>\n",
       "<style scoped>\n",
       "    .dataframe tbody tr th:only-of-type {\n",
       "        vertical-align: middle;\n",
       "    }\n",
       "\n",
       "    .dataframe tbody tr th {\n",
       "        vertical-align: top;\n",
       "    }\n",
       "\n",
       "    .dataframe thead th {\n",
       "        text-align: right;\n",
       "    }\n",
       "</style>\n",
       "<table border=\"1\" class=\"dataframe\">\n",
       "  <thead>\n",
       "    <tr style=\"text-align: right;\">\n",
       "      <th></th>\n",
       "      <th>precision</th>\n",
       "      <th>recall</th>\n",
       "      <th>f1-score</th>\n",
       "      <th>support</th>\n",
       "    </tr>\n",
       "  </thead>\n",
       "  <tbody>\n",
       "    <tr>\n",
       "      <th>background</th>\n",
       "      <td>0.727120</td>\n",
       "      <td>0.979632</td>\n",
       "      <td>0.834696</td>\n",
       "      <td>24695.000000</td>\n",
       "    </tr>\n",
       "    <tr>\n",
       "      <th>chimpanze</th>\n",
       "      <td>0.931462</td>\n",
       "      <td>0.429532</td>\n",
       "      <td>0.587942</td>\n",
       "      <td>15915.000000</td>\n",
       "    </tr>\n",
       "    <tr>\n",
       "      <th>accuracy</th>\n",
       "      <td>0.764048</td>\n",
       "      <td>0.764048</td>\n",
       "      <td>0.764048</td>\n",
       "      <td>0.764048</td>\n",
       "    </tr>\n",
       "    <tr>\n",
       "      <th>macro avg</th>\n",
       "      <td>0.829291</td>\n",
       "      <td>0.704582</td>\n",
       "      <td>0.711319</td>\n",
       "      <td>40610.000000</td>\n",
       "    </tr>\n",
       "    <tr>\n",
       "      <th>weighted avg</th>\n",
       "      <td>0.807201</td>\n",
       "      <td>0.764048</td>\n",
       "      <td>0.737994</td>\n",
       "      <td>40610.000000</td>\n",
       "    </tr>\n",
       "  </tbody>\n",
       "</table>\n",
       "</div>"
      ],
      "text/plain": [
       "              precision    recall  f1-score       support\n",
       "background     0.727120  0.979632  0.834696  24695.000000\n",
       "chimpanze      0.931462  0.429532  0.587942  15915.000000\n",
       "accuracy       0.764048  0.764048  0.764048      0.764048\n",
       "macro avg      0.829291  0.704582  0.711319  40610.000000\n",
       "weighted avg   0.807201  0.764048  0.737994  40610.000000"
      ]
     },
     "execution_count": 12,
     "metadata": {},
     "output_type": "execute_result"
    }
   ],
   "source": [
    "get_classification_report(targets,preds)"
   ]
  },
  {
   "cell_type": "code",
   "execution_count": 13,
   "metadata": {},
   "outputs": [
    {
     "name": "stdout",
     "output_type": "stream",
     "text": [
      "101988\n",
      "(101988, 1)\n"
     ]
    },
    {
     "data": {
      "text/plain": [
       "array(['background', 'chimpanze'], dtype=object)"
      ]
     },
     "execution_count": 13,
     "metadata": {},
     "output_type": "execute_result"
    }
   ],
   "source": [
    "folder = 'A38'\n",
    "\n",
    "preds, targets = read_svm_results(svm_dir + 'predictions/' + folder + '/')\n",
    "targets[targets == 'chimp'] = 'chimpanze'\n",
    "np.unique(targets)"
   ]
  },
  {
   "cell_type": "code",
   "execution_count": 14,
   "metadata": {},
   "outputs": [
    {
     "name": "stdout",
     "output_type": "stream",
     "text": [
      "[[0.92878346 0.07121654]\n",
      " [0.28133439 0.71866561]]\n"
     ]
    },
    {
     "data": {
      "image/png": "[encoded data removed]",
      "text/plain": [
       "<Figure size 576x432 with 2 Axes>"
      ]
     },
     "metadata": {
      "needs_background": "light"
     },
     "output_type": "display_data"
    }
   ],
   "source": [
    "get_confusion_matrix(targets,preds)"
   ]
  },
  {
   "cell_type": "code",
   "execution_count": 15,
   "metadata": {},
   "outputs": [
    {
     "data": {
      "text/html": [
       "<div>\n",
       "<style scoped>\n",
       "    .dataframe tbody tr th:only-of-type {\n",
       "        vertical-align: middle;\n",
       "    }\n",
       "\n",
       "    .dataframe tbody tr th {\n",
       "        vertical-align: top;\n",
       "    }\n",
       "\n",
       "    .dataframe thead th {\n",
       "        text-align: right;\n",
       "    }\n",
       "</style>\n",
       "<table border=\"1\" class=\"dataframe\">\n",
       "  <thead>\n",
       "    <tr style=\"text-align: right;\">\n",
       "      <th></th>\n",
       "      <th>precision</th>\n",
       "      <th>recall</th>\n",
       "      <th>f1-score</th>\n",
       "      <th>support</th>\n",
       "    </tr>\n",
       "  </thead>\n",
       "  <tbody>\n",
       "    <tr>\n",
       "      <th>background</th>\n",
       "      <td>0.909668</td>\n",
       "      <td>0.928783</td>\n",
       "      <td>0.919126</td>\n",
       "      <td>76808.000000</td>\n",
       "    </tr>\n",
       "    <tr>\n",
       "      <th>chimpanze</th>\n",
       "      <td>0.767886</td>\n",
       "      <td>0.718666</td>\n",
       "      <td>0.742461</td>\n",
       "      <td>25180.000000</td>\n",
       "    </tr>\n",
       "    <tr>\n",
       "      <th>accuracy</th>\n",
       "      <td>0.876907</td>\n",
       "      <td>0.876907</td>\n",
       "      <td>0.876907</td>\n",
       "      <td>0.876907</td>\n",
       "    </tr>\n",
       "    <tr>\n",
       "      <th>macro avg</th>\n",
       "      <td>0.838777</td>\n",
       "      <td>0.823725</td>\n",
       "      <td>0.830794</td>\n",
       "      <td>101988.000000</td>\n",
       "    </tr>\n",
       "    <tr>\n",
       "      <th>weighted avg</th>\n",
       "      <td>0.874663</td>\n",
       "      <td>0.876907</td>\n",
       "      <td>0.875509</td>\n",
       "      <td>101988.000000</td>\n",
       "    </tr>\n",
       "  </tbody>\n",
       "</table>\n",
       "</div>"
      ],
      "text/plain": [
       "              precision    recall  f1-score        support\n",
       "background     0.909668  0.928783  0.919126   76808.000000\n",
       "chimpanze      0.767886  0.718666  0.742461   25180.000000\n",
       "accuracy       0.876907  0.876907  0.876907       0.876907\n",
       "macro avg      0.838777  0.823725  0.830794  101988.000000\n",
       "weighted avg   0.874663  0.876907  0.875509  101988.000000"
      ]
     },
     "execution_count": 15,
     "metadata": {},
     "output_type": "execute_result"
    }
   ],
   "source": [
    "get_classification_report(targets,preds)"
   ]
  },
  {
   "cell_type": "code",
   "execution_count": 15,
   "metadata": {},
   "outputs": [
    {
     "name": "stdout",
     "output_type": "stream",
     "text": [
      "112168\n",
      "(112168, 1)\n",
      "40610\n",
      "(40610, 1)\n",
      "101988\n",
      "(101988, 1)\n"
     ]
    }
   ],
   "source": [
    "### Now the above recorders combined\n",
    "folders = ['A6', 'A21', 'A38']\n",
    "\n",
    "targets = pd.DataFrame()\n",
    "preds = []\n",
    "\n",
    "for folder in folders:\n",
    "    preds_tmp, targets_tmp = read_svm_results(svm_dir + 'predictions/' + folder + '/')\n",
    "    targets_tmp[targets_tmp == 'chimp'] = 'chimpanze'\n",
    "    targets = targets.append(targets_tmp, ignore_index=True)\n",
    "    preds.extend(preds_tmp)\n"
   ]
  },
  {
   "cell_type": "code",
   "execution_count": 16,
   "metadata": {},
   "outputs": [
    {
     "name": "stdout",
     "output_type": "stream",
     "text": [
      "[[0.89136399 0.10863601]\n",
      " [0.23774572 0.76225428]]\n"
     ]
    },
    {
     "data": {
      "image/png": "[encoded data removed]",
      "text/plain": [
       "<Figure size 576x432 with 2 Axes>"
      ]
     },
     "metadata": {
      "needs_background": "light"
     },
     "output_type": "display_data"
    }
   ],
   "source": [
    "get_confusion_matrix(targets,preds)"
   ]
  },
  {
   "cell_type": "code",
   "execution_count": 7,
   "metadata": {},
   "outputs": [
    {
     "data": {
      "text/html": [
       "<div>\n",
       "<style scoped>\n",
       "    .dataframe tbody tr th:only-of-type {\n",
       "        vertical-align: middle;\n",
       "    }\n",
       "\n",
       "    .dataframe tbody tr th {\n",
       "        vertical-align: top;\n",
       "    }\n",
       "\n",
       "    .dataframe thead th {\n",
       "        text-align: right;\n",
       "    }\n",
       "</style>\n",
       "<table border=\"1\" class=\"dataframe\">\n",
       "  <thead>\n",
       "    <tr style=\"text-align: right;\">\n",
       "      <th></th>\n",
       "      <th>precision</th>\n",
       "      <th>recall</th>\n",
       "      <th>f1-score</th>\n",
       "      <th>support</th>\n",
       "    </tr>\n",
       "  </thead>\n",
       "  <tbody>\n",
       "    <tr>\n",
       "      <th>background</th>\n",
       "      <td>0.879647</td>\n",
       "      <td>0.891364</td>\n",
       "      <td>0.885467</td>\n",
       "      <td>168388.00000</td>\n",
       "    </tr>\n",
       "    <tr>\n",
       "      <th>chimpanze</th>\n",
       "      <td>0.782576</td>\n",
       "      <td>0.762254</td>\n",
       "      <td>0.772281</td>\n",
       "      <td>86378.00000</td>\n",
       "    </tr>\n",
       "    <tr>\n",
       "      <th>accuracy</th>\n",
       "      <td>0.847590</td>\n",
       "      <td>0.847590</td>\n",
       "      <td>0.847590</td>\n",
       "      <td>0.84759</td>\n",
       "    </tr>\n",
       "    <tr>\n",
       "      <th>macro avg</th>\n",
       "      <td>0.831111</td>\n",
       "      <td>0.826809</td>\n",
       "      <td>0.828874</td>\n",
       "      <td>254766.00000</td>\n",
       "    </tr>\n",
       "    <tr>\n",
       "      <th>weighted avg</th>\n",
       "      <td>0.846735</td>\n",
       "      <td>0.847590</td>\n",
       "      <td>0.847091</td>\n",
       "      <td>254766.00000</td>\n",
       "    </tr>\n",
       "  </tbody>\n",
       "</table>\n",
       "</div>"
      ],
      "text/plain": [
       "              precision    recall  f1-score       support\n",
       "background     0.879647  0.891364  0.885467  168388.00000\n",
       "chimpanze      0.782576  0.762254  0.772281   86378.00000\n",
       "accuracy       0.847590  0.847590  0.847590       0.84759\n",
       "macro avg      0.831111  0.826809  0.828874  254766.00000\n",
       "weighted avg   0.846735  0.847590  0.847091  254766.00000"
      ]
     },
     "execution_count": 7,
     "metadata": {},
     "output_type": "execute_result"
    }
   ],
   "source": [
    "get_classification_report(targets,preds)"
   ]
  },
  {
   "cell_type": "markdown",
   "metadata": {},
   "source": [
    "## Scenario 2: Synthetic data only"
   ]
  },
  {
   "cell_type": "markdown",
   "metadata": {},
   "source": [
    "### Step 1: Plot Test results (synthetic data test set)"
   ]
  },
  {
   "cell_type": "code",
   "execution_count": 9,
   "metadata": {},
   "outputs": [
    {
     "name": "stdout",
     "output_type": "stream",
     "text": [
      "33179\n",
      "(33179, 1)\n"
     ]
    }
   ],
   "source": [
    "svm_dir = '../models/svm/synthetic/'\n",
    "preds, targets = read_svm_results(svm_dir)"
   ]
  },
  {
   "cell_type": "code",
   "execution_count": 10,
   "metadata": {},
   "outputs": [
    {
     "name": "stdout",
     "output_type": "stream",
     "text": [
      "[[17709  1720]\n",
      " [ 2896 10854]]\n"
     ]
    },
    {
     "data": {
      "image/png": "[encoded data removed]",
      "text/plain": [
       "<Figure size 432x288 with 2 Axes>"
      ]
     },
     "metadata": {
      "needs_background": "light"
     },
     "output_type": "display_data"
    }
   ],
   "source": [
    "get_confusion_matrix(targets,preds)"
   ]
  },
  {
   "cell_type": "code",
   "execution_count": 11,
   "metadata": {},
   "outputs": [
    {
     "data": {
      "text/html": [
       "<div>\n",
       "<style scoped>\n",
       "    .dataframe tbody tr th:only-of-type {\n",
       "        vertical-align: middle;\n",
       "    }\n",
       "\n",
       "    .dataframe tbody tr th {\n",
       "        vertical-align: top;\n",
       "    }\n",
       "\n",
       "    .dataframe thead th {\n",
       "        text-align: right;\n",
       "    }\n",
       "</style>\n",
       "<table border=\"1\" class=\"dataframe\">\n",
       "  <thead>\n",
       "    <tr style=\"text-align: right;\">\n",
       "      <th></th>\n",
       "      <th>precision</th>\n",
       "      <th>recall</th>\n",
       "      <th>f1-score</th>\n",
       "      <th>support</th>\n",
       "    </tr>\n",
       "  </thead>\n",
       "  <tbody>\n",
       "    <tr>\n",
       "      <th>background</th>\n",
       "      <td>0.859452</td>\n",
       "      <td>0.911473</td>\n",
       "      <td>0.884698</td>\n",
       "      <td>19429.000000</td>\n",
       "    </tr>\n",
       "    <tr>\n",
       "      <th>chimpanze</th>\n",
       "      <td>0.863210</td>\n",
       "      <td>0.789382</td>\n",
       "      <td>0.824647</td>\n",
       "      <td>13750.000000</td>\n",
       "    </tr>\n",
       "    <tr>\n",
       "      <th>accuracy</th>\n",
       "      <td>0.860876</td>\n",
       "      <td>0.860876</td>\n",
       "      <td>0.860876</td>\n",
       "      <td>0.860876</td>\n",
       "    </tr>\n",
       "    <tr>\n",
       "      <th>macro avg</th>\n",
       "      <td>0.861331</td>\n",
       "      <td>0.850427</td>\n",
       "      <td>0.854672</td>\n",
       "      <td>33179.000000</td>\n",
       "    </tr>\n",
       "    <tr>\n",
       "      <th>weighted avg</th>\n",
       "      <td>0.861009</td>\n",
       "      <td>0.860876</td>\n",
       "      <td>0.859812</td>\n",
       "      <td>33179.000000</td>\n",
       "    </tr>\n",
       "  </tbody>\n",
       "</table>\n",
       "</div>"
      ],
      "text/plain": [
       "              precision    recall  f1-score       support\n",
       "background     0.859452  0.911473  0.884698  19429.000000\n",
       "chimpanze      0.863210  0.789382  0.824647  13750.000000\n",
       "accuracy       0.860876  0.860876  0.860876      0.860876\n",
       "macro avg      0.861331  0.850427  0.854672  33179.000000\n",
       "weighted avg   0.861009  0.860876  0.859812  33179.000000"
      ]
     },
     "execution_count": 11,
     "metadata": {},
     "output_type": "execute_result"
    }
   ],
   "source": [
    "get_classification_report(targets,preds)"
   ]
  },
  {
   "cell_type": "markdown",
   "metadata": {},
   "source": [
    "### Step 2: Predict Using synthetic data"
   ]
  },
  {
   "cell_type": "markdown",
   "metadata": {},
   "source": [
    "#### Apply svm"
   ]
  },
  {
   "cell_type": "code",
   "execution_count": 12,
   "metadata": {},
   "outputs": [
    {
     "name": "stdout",
     "output_type": "stream",
     "text": [
      "['../features/svm/sanaga/A6/A6_background_24000.csv', '../features/svm/sanaga/A6/A6_chimpanze_24000.csv']\n",
      "prediction is done!\n",
      "['../features/svm/sanaga/A21/A21_chimpanze_24000.csv', '../features/svm/sanaga/A21/A21_background_24000.csv']\n",
      "prediction is done!\n",
      "['../features/svm/sanaga/A38/A38_background_24000.csv', '../features/svm/sanaga/A38/A38_chimpanze_24000.csv']\n",
      "prediction is done!\n"
     ]
    }
   ],
   "source": [
    "folders = ['A6', 'A21', 'A38']\n",
    "for folder in folders:\n",
    "    test_path = '../features/svm/sanaga/' + folder + '/*'\n",
    "\n",
    "    x_test, y_test = read_files(test_path, [5, -1], svm_dir)\n",
    "    x_test = normalize(x_test, svm_dir)\n",
    "\n",
    "    run_svm(x_test, y_test, svm_dir)"
   ]
  },
  {
   "cell_type": "code",
   "execution_count": 13,
   "metadata": {},
   "outputs": [
    {
     "name": "stdout",
     "output_type": "stream",
     "text": [
      "112168\n",
      "(112168, 1)\n"
     ]
    },
    {
     "data": {
      "text/plain": [
       "array(['background', 'chimpanze'], dtype=object)"
      ]
     },
     "execution_count": 13,
     "metadata": {},
     "output_type": "execute_result"
    }
   ],
   "source": [
    "folder = 'A6'\n",
    "\n",
    "preds, targets = read_svm_results(svm_dir + 'predictions/' + folder + '/')\n",
    "targets[targets == 'chimp'] = 'chimpanze'\n",
    "np.unique(targets)"
   ]
  },
  {
   "cell_type": "code",
   "execution_count": 14,
   "metadata": {},
   "outputs": [
    {
     "name": "stdout",
     "output_type": "stream",
     "text": [
      "[[22867 44018]\n",
      " [ 2041 43242]]\n"
     ]
    },
    {
     "data": {
      "image/png": "[encoded data removed]",
      "text/plain": [
       "<Figure size 432x288 with 2 Axes>"
      ]
     },
     "metadata": {
      "needs_background": "light"
     },
     "output_type": "display_data"
    }
   ],
   "source": [
    "get_confusion_matrix(targets,preds)"
   ]
  },
  {
   "cell_type": "code",
   "execution_count": 15,
   "metadata": {},
   "outputs": [
    {
     "data": {
      "text/html": [
       "<div>\n",
       "<style scoped>\n",
       "    .dataframe tbody tr th:only-of-type {\n",
       "        vertical-align: middle;\n",
       "    }\n",
       "\n",
       "    .dataframe tbody tr th {\n",
       "        vertical-align: top;\n",
       "    }\n",
       "\n",
       "    .dataframe thead th {\n",
       "        text-align: right;\n",
       "    }\n",
       "</style>\n",
       "<table border=\"1\" class=\"dataframe\">\n",
       "  <thead>\n",
       "    <tr style=\"text-align: right;\">\n",
       "      <th></th>\n",
       "      <th>precision</th>\n",
       "      <th>recall</th>\n",
       "      <th>f1-score</th>\n",
       "      <th>support</th>\n",
       "    </tr>\n",
       "  </thead>\n",
       "  <tbody>\n",
       "    <tr>\n",
       "      <th>background</th>\n",
       "      <td>0.918058</td>\n",
       "      <td>0.341885</td>\n",
       "      <td>0.498230</td>\n",
       "      <td>66885.000000</td>\n",
       "    </tr>\n",
       "    <tr>\n",
       "      <th>chimpanze</th>\n",
       "      <td>0.495554</td>\n",
       "      <td>0.954928</td>\n",
       "      <td>0.652498</td>\n",
       "      <td>45283.000000</td>\n",
       "    </tr>\n",
       "    <tr>\n",
       "      <th>accuracy</th>\n",
       "      <td>0.589375</td>\n",
       "      <td>0.589375</td>\n",
       "      <td>0.589375</td>\n",
       "      <td>0.589375</td>\n",
       "    </tr>\n",
       "    <tr>\n",
       "      <th>macro avg</th>\n",
       "      <td>0.706806</td>\n",
       "      <td>0.648407</td>\n",
       "      <td>0.575364</td>\n",
       "      <td>112168.000000</td>\n",
       "    </tr>\n",
       "    <tr>\n",
       "      <th>weighted avg</th>\n",
       "      <td>0.747490</td>\n",
       "      <td>0.589375</td>\n",
       "      <td>0.560509</td>\n",
       "      <td>112168.000000</td>\n",
       "    </tr>\n",
       "  </tbody>\n",
       "</table>\n",
       "</div>"
      ],
      "text/plain": [
       "              precision    recall  f1-score        support\n",
       "background     0.918058  0.341885  0.498230   66885.000000\n",
       "chimpanze      0.495554  0.954928  0.652498   45283.000000\n",
       "accuracy       0.589375  0.589375  0.589375       0.589375\n",
       "macro avg      0.706806  0.648407  0.575364  112168.000000\n",
       "weighted avg   0.747490  0.589375  0.560509  112168.000000"
      ]
     },
     "execution_count": 15,
     "metadata": {},
     "output_type": "execute_result"
    }
   ],
   "source": [
    "get_classification_report(targets,preds)"
   ]
  },
  {
   "cell_type": "code",
   "execution_count": 16,
   "metadata": {},
   "outputs": [
    {
     "name": "stdout",
     "output_type": "stream",
     "text": [
      "40610\n",
      "(40610, 1)\n"
     ]
    },
    {
     "data": {
      "text/plain": [
       "array(['background', 'chimpanze'], dtype=object)"
      ]
     },
     "execution_count": 16,
     "metadata": {},
     "output_type": "execute_result"
    }
   ],
   "source": [
    "folder = 'A21'\n",
    "\n",
    "preds, targets = read_svm_results(svm_dir + 'predictions/' + folder + '/')\n",
    "targets[targets == 'chimp'] = 'chimpanze'\n",
    "np.unique(targets)"
   ]
  },
  {
   "cell_type": "code",
   "execution_count": 17,
   "metadata": {},
   "outputs": [
    {
     "name": "stdout",
     "output_type": "stream",
     "text": [
      "[[ 4742 19953]\n",
      " [ 1307 14608]]\n"
     ]
    },
    {
     "data": {
      "image/png": "[encoded data removed]",
      "text/plain": [
       "<Figure size 432x288 with 2 Axes>"
      ]
     },
     "metadata": {
      "needs_background": "light"
     },
     "output_type": "display_data"
    }
   ],
   "source": [
    "get_confusion_matrix(targets,preds)"
   ]
  },
  {
   "cell_type": "code",
   "execution_count": 18,
   "metadata": {},
   "outputs": [
    {
     "data": {
      "text/html": [
       "<div>\n",
       "<style scoped>\n",
       "    .dataframe tbody tr th:only-of-type {\n",
       "        vertical-align: middle;\n",
       "    }\n",
       "\n",
       "    .dataframe tbody tr th {\n",
       "        vertical-align: top;\n",
       "    }\n",
       "\n",
       "    .dataframe thead th {\n",
       "        text-align: right;\n",
       "    }\n",
       "</style>\n",
       "<table border=\"1\" class=\"dataframe\">\n",
       "  <thead>\n",
       "    <tr style=\"text-align: right;\">\n",
       "      <th></th>\n",
       "      <th>precision</th>\n",
       "      <th>recall</th>\n",
       "      <th>f1-score</th>\n",
       "      <th>support</th>\n",
       "    </tr>\n",
       "  </thead>\n",
       "  <tbody>\n",
       "    <tr>\n",
       "      <th>background</th>\n",
       "      <td>0.783931</td>\n",
       "      <td>0.192023</td>\n",
       "      <td>0.308483</td>\n",
       "      <td>24695.000000</td>\n",
       "    </tr>\n",
       "    <tr>\n",
       "      <th>chimpanze</th>\n",
       "      <td>0.422673</td>\n",
       "      <td>0.917876</td>\n",
       "      <td>0.578810</td>\n",
       "      <td>15915.000000</td>\n",
       "    </tr>\n",
       "    <tr>\n",
       "      <th>accuracy</th>\n",
       "      <td>0.476484</td>\n",
       "      <td>0.476484</td>\n",
       "      <td>0.476484</td>\n",
       "      <td>0.476484</td>\n",
       "    </tr>\n",
       "    <tr>\n",
       "      <th>macro avg</th>\n",
       "      <td>0.603302</td>\n",
       "      <td>0.554949</td>\n",
       "      <td>0.443646</td>\n",
       "      <td>40610.000000</td>\n",
       "    </tr>\n",
       "    <tr>\n",
       "      <th>weighted avg</th>\n",
       "      <td>0.642355</td>\n",
       "      <td>0.476484</td>\n",
       "      <td>0.414424</td>\n",
       "      <td>40610.000000</td>\n",
       "    </tr>\n",
       "  </tbody>\n",
       "</table>\n",
       "</div>"
      ],
      "text/plain": [
       "              precision    recall  f1-score       support\n",
       "background     0.783931  0.192023  0.308483  24695.000000\n",
       "chimpanze      0.422673  0.917876  0.578810  15915.000000\n",
       "accuracy       0.476484  0.476484  0.476484      0.476484\n",
       "macro avg      0.603302  0.554949  0.443646  40610.000000\n",
       "weighted avg   0.642355  0.476484  0.414424  40610.000000"
      ]
     },
     "execution_count": 18,
     "metadata": {},
     "output_type": "execute_result"
    }
   ],
   "source": [
    "get_classification_report(targets,preds)"
   ]
  },
  {
   "cell_type": "code",
   "execution_count": 19,
   "metadata": {},
   "outputs": [
    {
     "name": "stdout",
     "output_type": "stream",
     "text": [
      "101988\n",
      "(101988, 1)\n"
     ]
    },
    {
     "data": {
      "text/plain": [
       "array(['background', 'chimpanze'], dtype=object)"
      ]
     },
     "execution_count": 19,
     "metadata": {},
     "output_type": "execute_result"
    }
   ],
   "source": [
    "folder = 'A38'\n",
    "\n",
    "preds, targets = read_svm_results(svm_dir + 'predictions/' + folder + '/')\n",
    "targets[targets == 'chimp'] = 'chimpanze'\n",
    "np.unique(targets)"
   ]
  },
  {
   "cell_type": "code",
   "execution_count": 20,
   "metadata": {},
   "outputs": [
    {
     "name": "stdout",
     "output_type": "stream",
     "text": [
      "[[21538 55270]\n",
      " [ 2580 22600]]\n"
     ]
    },
    {
     "data": {
      "image/png": "[encoded data removed]",
      "text/plain": [
       "<Figure size 432x288 with 2 Axes>"
      ]
     },
     "metadata": {
      "needs_background": "light"
     },
     "output_type": "display_data"
    }
   ],
   "source": [
    "get_confusion_matrix(targets,preds)"
   ]
  },
  {
   "cell_type": "code",
   "execution_count": 21,
   "metadata": {},
   "outputs": [
    {
     "data": {
      "text/html": [
       "<div>\n",
       "<style scoped>\n",
       "    .dataframe tbody tr th:only-of-type {\n",
       "        vertical-align: middle;\n",
       "    }\n",
       "\n",
       "    .dataframe tbody tr th {\n",
       "        vertical-align: top;\n",
       "    }\n",
       "\n",
       "    .dataframe thead th {\n",
       "        text-align: right;\n",
       "    }\n",
       "</style>\n",
       "<table border=\"1\" class=\"dataframe\">\n",
       "  <thead>\n",
       "    <tr style=\"text-align: right;\">\n",
       "      <th></th>\n",
       "      <th>precision</th>\n",
       "      <th>recall</th>\n",
       "      <th>f1-score</th>\n",
       "      <th>support</th>\n",
       "    </tr>\n",
       "  </thead>\n",
       "  <tbody>\n",
       "    <tr>\n",
       "      <th>background</th>\n",
       "      <td>0.893026</td>\n",
       "      <td>0.280413</td>\n",
       "      <td>0.426808</td>\n",
       "      <td>76808.000000</td>\n",
       "    </tr>\n",
       "    <tr>\n",
       "      <th>chimpanze</th>\n",
       "      <td>0.290227</td>\n",
       "      <td>0.897538</td>\n",
       "      <td>0.438622</td>\n",
       "      <td>25180.000000</td>\n",
       "    </tr>\n",
       "    <tr>\n",
       "      <th>accuracy</th>\n",
       "      <td>0.432776</td>\n",
       "      <td>0.432776</td>\n",
       "      <td>0.432776</td>\n",
       "      <td>0.432776</td>\n",
       "    </tr>\n",
       "    <tr>\n",
       "      <th>macro avg</th>\n",
       "      <td>0.591627</td>\n",
       "      <td>0.588976</td>\n",
       "      <td>0.432715</td>\n",
       "      <td>101988.000000</td>\n",
       "    </tr>\n",
       "    <tr>\n",
       "      <th>weighted avg</th>\n",
       "      <td>0.744200</td>\n",
       "      <td>0.432776</td>\n",
       "      <td>0.429725</td>\n",
       "      <td>101988.000000</td>\n",
       "    </tr>\n",
       "  </tbody>\n",
       "</table>\n",
       "</div>"
      ],
      "text/plain": [
       "              precision    recall  f1-score        support\n",
       "background     0.893026  0.280413  0.426808   76808.000000\n",
       "chimpanze      0.290227  0.897538  0.438622   25180.000000\n",
       "accuracy       0.432776  0.432776  0.432776       0.432776\n",
       "macro avg      0.591627  0.588976  0.432715  101988.000000\n",
       "weighted avg   0.744200  0.432776  0.429725  101988.000000"
      ]
     },
     "execution_count": 21,
     "metadata": {},
     "output_type": "execute_result"
    }
   ],
   "source": [
    "get_classification_report(targets,preds)"
   ]
  },
  {
   "cell_type": "code",
   "execution_count": 22,
   "metadata": {},
   "outputs": [
    {
     "name": "stdout",
     "output_type": "stream",
     "text": [
      "112168\n",
      "(112168, 1)\n",
      "40610\n",
      "(40610, 1)\n",
      "101988\n",
      "(101988, 1)\n"
     ]
    }
   ],
   "source": [
    "### Now the above recorders combined\n",
    "folders = ['A6', 'A21', 'A38']\n",
    "\n",
    "targets = pd.DataFrame()\n",
    "preds = []\n",
    "\n",
    "for folder in folders:\n",
    "    preds_tmp, targets_tmp = read_svm_results(svm_dir + 'predictions/' + folder + '/')\n",
    "    targets_tmp[targets_tmp == 'chimp'] = 'chimpanze'\n",
    "    targets = targets.append(targets_tmp, ignore_index=True)\n",
    "    preds.extend(preds_tmp)\n"
   ]
  },
  {
   "cell_type": "code",
   "execution_count": 23,
   "metadata": {},
   "outputs": [
    {
     "name": "stdout",
     "output_type": "stream",
     "text": [
      "[[ 49147 119241]\n",
      " [  5928  80450]]\n"
     ]
    },
    {
     "data": {
      "image/png": "[encoded data removed]",
      "text/plain": [
       "<Figure size 432x288 with 2 Axes>"
      ]
     },
     "metadata": {
      "needs_background": "light"
     },
     "output_type": "display_data"
    }
   ],
   "source": [
    "get_confusion_matrix(targets,preds)"
   ]
  },
  {
   "cell_type": "code",
   "execution_count": 24,
   "metadata": {},
   "outputs": [
    {
     "data": {
      "text/html": [
       "<div>\n",
       "<style scoped>\n",
       "    .dataframe tbody tr th:only-of-type {\n",
       "        vertical-align: middle;\n",
       "    }\n",
       "\n",
       "    .dataframe tbody tr th {\n",
       "        vertical-align: top;\n",
       "    }\n",
       "\n",
       "    .dataframe thead th {\n",
       "        text-align: right;\n",
       "    }\n",
       "</style>\n",
       "<table border=\"1\" class=\"dataframe\">\n",
       "  <thead>\n",
       "    <tr style=\"text-align: right;\">\n",
       "      <th></th>\n",
       "      <th>precision</th>\n",
       "      <th>recall</th>\n",
       "      <th>f1-score</th>\n",
       "      <th>support</th>\n",
       "    </tr>\n",
       "  </thead>\n",
       "  <tbody>\n",
       "    <tr>\n",
       "      <th>background</th>\n",
       "      <td>0.892365</td>\n",
       "      <td>0.291868</td>\n",
       "      <td>0.439867</td>\n",
       "      <td>168388.00000</td>\n",
       "    </tr>\n",
       "    <tr>\n",
       "      <th>chimpanze</th>\n",
       "      <td>0.402872</td>\n",
       "      <td>0.931371</td>\n",
       "      <td>0.562452</td>\n",
       "      <td>86378.00000</td>\n",
       "    </tr>\n",
       "    <tr>\n",
       "      <th>accuracy</th>\n",
       "      <td>0.508690</td>\n",
       "      <td>0.508690</td>\n",
       "      <td>0.508690</td>\n",
       "      <td>0.50869</td>\n",
       "    </tr>\n",
       "    <tr>\n",
       "      <th>macro avg</th>\n",
       "      <td>0.647619</td>\n",
       "      <td>0.611620</td>\n",
       "      <td>0.501159</td>\n",
       "      <td>254766.00000</td>\n",
       "    </tr>\n",
       "    <tr>\n",
       "      <th>weighted avg</th>\n",
       "      <td>0.726403</td>\n",
       "      <td>0.508690</td>\n",
       "      <td>0.481429</td>\n",
       "      <td>254766.00000</td>\n",
       "    </tr>\n",
       "  </tbody>\n",
       "</table>\n",
       "</div>"
      ],
      "text/plain": [
       "              precision    recall  f1-score       support\n",
       "background     0.892365  0.291868  0.439867  168388.00000\n",
       "chimpanze      0.402872  0.931371  0.562452   86378.00000\n",
       "accuracy       0.508690  0.508690  0.508690       0.50869\n",
       "macro avg      0.647619  0.611620  0.501159  254766.00000\n",
       "weighted avg   0.726403  0.508690  0.481429  254766.00000"
      ]
     },
     "execution_count": 24,
     "metadata": {},
     "output_type": "execute_result"
    }
   ],
   "source": [
    "get_classification_report(targets,preds)"
   ]
  },
  {
   "cell_type": "markdown",
   "metadata": {},
   "source": [
    "## Scenario 3: All data (sanctuary + synthetic)"
   ]
  },
  {
   "cell_type": "markdown",
   "metadata": {},
   "source": [
    "### Step 1: Plot Test results (synthetic + sanctuary data test set)"
   ]
  },
  {
   "cell_type": "code",
   "execution_count": 17,
   "metadata": {},
   "outputs": [
    {
     "name": "stdout",
     "output_type": "stream",
     "text": [
      "51593\n",
      "(51593, 1)\n"
     ]
    }
   ],
   "source": [
    "svm_dir = '../models/svm/all/'\n",
    "preds, targets = read_svm_results(svm_dir)"
   ]
  },
  {
   "cell_type": "code",
   "execution_count": 18,
   "metadata": {},
   "outputs": [
    {
     "name": "stdout",
     "output_type": "stream",
     "text": [
      "[[0.93721541 0.06278459]\n",
      " [0.18634974 0.81365026]]\n"
     ]
    },
    {
     "data": {
      "image/png": "[encoded data removed]",
      "text/plain": [
       "<Figure size 576x432 with 2 Axes>"
      ]
     },
     "metadata": {
      "needs_background": "light"
     },
     "output_type": "display_data"
    }
   ],
   "source": [
    "get_confusion_matrix(targets,preds)"
   ]
  },
  {
   "cell_type": "code",
   "execution_count": 7,
   "metadata": {},
   "outputs": [
    {
     "data": {
      "text/html": [
       "<div>\n",
       "<style scoped>\n",
       "    .dataframe tbody tr th:only-of-type {\n",
       "        vertical-align: middle;\n",
       "    }\n",
       "\n",
       "    .dataframe tbody tr th {\n",
       "        vertical-align: top;\n",
       "    }\n",
       "\n",
       "    .dataframe thead th {\n",
       "        text-align: right;\n",
       "    }\n",
       "</style>\n",
       "<table border=\"1\" class=\"dataframe\">\n",
       "  <thead>\n",
       "    <tr style=\"text-align: right;\">\n",
       "      <th></th>\n",
       "      <th>precision</th>\n",
       "      <th>recall</th>\n",
       "      <th>f1-score</th>\n",
       "      <th>support</th>\n",
       "    </tr>\n",
       "  </thead>\n",
       "  <tbody>\n",
       "    <tr>\n",
       "      <th>background</th>\n",
       "      <td>0.908600</td>\n",
       "      <td>0.937215</td>\n",
       "      <td>0.922686</td>\n",
       "      <td>34260.000000</td>\n",
       "    </tr>\n",
       "    <tr>\n",
       "      <th>chimpanze</th>\n",
       "      <td>0.867663</td>\n",
       "      <td>0.813650</td>\n",
       "      <td>0.839789</td>\n",
       "      <td>17333.000000</td>\n",
       "    </tr>\n",
       "    <tr>\n",
       "      <th>accuracy</th>\n",
       "      <td>0.895703</td>\n",
       "      <td>0.895703</td>\n",
       "      <td>0.895703</td>\n",
       "      <td>0.895703</td>\n",
       "    </tr>\n",
       "    <tr>\n",
       "      <th>macro avg</th>\n",
       "      <td>0.888131</td>\n",
       "      <td>0.875433</td>\n",
       "      <td>0.881237</td>\n",
       "      <td>51593.000000</td>\n",
       "    </tr>\n",
       "    <tr>\n",
       "      <th>weighted avg</th>\n",
       "      <td>0.894847</td>\n",
       "      <td>0.895703</td>\n",
       "      <td>0.894836</td>\n",
       "      <td>51593.000000</td>\n",
       "    </tr>\n",
       "  </tbody>\n",
       "</table>\n",
       "</div>"
      ],
      "text/plain": [
       "              precision    recall  f1-score       support\n",
       "background     0.908600  0.937215  0.922686  34260.000000\n",
       "chimpanze      0.867663  0.813650  0.839789  17333.000000\n",
       "accuracy       0.895703  0.895703  0.895703      0.895703\n",
       "macro avg      0.888131  0.875433  0.881237  51593.000000\n",
       "weighted avg   0.894847  0.895703  0.894836  51593.000000"
      ]
     },
     "execution_count": 7,
     "metadata": {},
     "output_type": "execute_result"
    }
   ],
   "source": [
    "get_classification_report(targets,preds)"
   ]
  },
  {
   "cell_type": "markdown",
   "metadata": {},
   "source": [
    "### Step 2: Predict Using svm trained on all data (sanctuary + synthetic)"
   ]
  },
  {
   "cell_type": "markdown",
   "metadata": {},
   "source": [
    "#### Apply svm"
   ]
  },
  {
   "cell_type": "code",
   "execution_count": 8,
   "metadata": {},
   "outputs": [
    {
     "name": "stdout",
     "output_type": "stream",
     "text": [
      "['../features/svm/sanaga/A6/A6_background_24000.csv', '../features/svm/sanaga/A6/A6_chimpanze_24000.csv']\n",
      "prediction is done!\n",
      "['../features/svm/sanaga/A21/A21_chimpanze_24000.csv', '../features/svm/sanaga/A21/A21_background_24000.csv']\n",
      "prediction is done!\n",
      "['../features/svm/sanaga/A38/A38_background_24000.csv', '../features/svm/sanaga/A38/A38_chimpanze_24000.csv']\n",
      "prediction is done!\n"
     ]
    }
   ],
   "source": [
    "folders = ['A6', 'A21', 'A38']\n",
    "for folder in folders:\n",
    "    test_path = '../features/svm/sanaga/' + folder + '/*'\n",
    "\n",
    "    x_test, y_test = read_files(test_path, [5, -1], svm_dir)\n",
    "    x_test = normalize(x_test, svm_dir)\n",
    "\n",
    "    run_svm(x_test, y_test, svm_dir)"
   ]
  },
  {
   "cell_type": "code",
   "execution_count": 22,
   "metadata": {},
   "outputs": [
    {
     "name": "stdout",
     "output_type": "stream",
     "text": [
      "112168\n",
      "(112168, 1)\n"
     ]
    },
    {
     "data": {
      "text/plain": [
       "array(['background', 'chimpanze'], dtype=object)"
      ]
     },
     "execution_count": 22,
     "metadata": {},
     "output_type": "execute_result"
    }
   ],
   "source": [
    "folder = 'A6'\n",
    "\n",
    "preds, targets = read_svm_results(svm_dir + 'predictions/' + folder + '/')\n",
    "targets[targets == 'chimp'] = 'chimpanze'\n",
    "np.unique(targets)"
   ]
  },
  {
   "cell_type": "code",
   "execution_count": 28,
   "metadata": {},
   "outputs": [
    {
     "name": "stdout",
     "output_type": "stream",
     "text": [
      "[[0.85147641 0.14852359]\n",
      " [0.10734713 0.89265287]]\n"
     ]
    },
    {
     "data": {
      "image/png": "[encoded data removed]",
      "text/plain": [
       "<Figure size 576x432 with 2 Axes>"
      ]
     },
     "metadata": {
      "needs_background": "light"
     },
     "output_type": "display_data"
    },
    {
     "data": {
      "text/plain": [
       "<module 'matplotlib.pyplot' from '/home/jelle/anaconda3/envs/animal-sounds/lib/python3.8/site-packages/matplotlib/pyplot.py'>"
      ]
     },
     "execution_count": 28,
     "metadata": {},
     "output_type": "execute_result"
    }
   ],
   "source": [
    "get_confusion_matrix(targets,preds, file='../results/A6_matrix.png')\n"
   ]
  },
  {
   "cell_type": "code",
   "execution_count": 12,
   "metadata": {},
   "outputs": [
    {
     "data": {
      "text/html": [
       "<div>\n",
       "<style scoped>\n",
       "    .dataframe tbody tr th:only-of-type {\n",
       "        vertical-align: middle;\n",
       "    }\n",
       "\n",
       "    .dataframe tbody tr th {\n",
       "        vertical-align: top;\n",
       "    }\n",
       "\n",
       "    .dataframe thead th {\n",
       "        text-align: right;\n",
       "    }\n",
       "</style>\n",
       "<table border=\"1\" class=\"dataframe\">\n",
       "  <thead>\n",
       "    <tr style=\"text-align: right;\">\n",
       "      <th></th>\n",
       "      <th>precision</th>\n",
       "      <th>recall</th>\n",
       "      <th>f1-score</th>\n",
       "      <th>support</th>\n",
       "    </tr>\n",
       "  </thead>\n",
       "  <tbody>\n",
       "    <tr>\n",
       "      <th>background</th>\n",
       "      <td>0.921358</td>\n",
       "      <td>0.851476</td>\n",
       "      <td>0.885040</td>\n",
       "      <td>66885.0000</td>\n",
       "    </tr>\n",
       "    <tr>\n",
       "      <th>chimpanze</th>\n",
       "      <td>0.802725</td>\n",
       "      <td>0.892653</td>\n",
       "      <td>0.845304</td>\n",
       "      <td>45283.0000</td>\n",
       "    </tr>\n",
       "    <tr>\n",
       "      <th>accuracy</th>\n",
       "      <td>0.868100</td>\n",
       "      <td>0.868100</td>\n",
       "      <td>0.868100</td>\n",
       "      <td>0.8681</td>\n",
       "    </tr>\n",
       "    <tr>\n",
       "      <th>macro avg</th>\n",
       "      <td>0.862041</td>\n",
       "      <td>0.872065</td>\n",
       "      <td>0.865172</td>\n",
       "      <td>112168.0000</td>\n",
       "    </tr>\n",
       "    <tr>\n",
       "      <th>weighted avg</th>\n",
       "      <td>0.873465</td>\n",
       "      <td>0.868100</td>\n",
       "      <td>0.868998</td>\n",
       "      <td>112168.0000</td>\n",
       "    </tr>\n",
       "  </tbody>\n",
       "</table>\n",
       "</div>"
      ],
      "text/plain": [
       "              precision    recall  f1-score      support\n",
       "background     0.921358  0.851476  0.885040   66885.0000\n",
       "chimpanze      0.802725  0.892653  0.845304   45283.0000\n",
       "accuracy       0.868100  0.868100  0.868100       0.8681\n",
       "macro avg      0.862041  0.872065  0.865172  112168.0000\n",
       "weighted avg   0.873465  0.868100  0.868998  112168.0000"
      ]
     },
     "execution_count": 12,
     "metadata": {},
     "output_type": "execute_result"
    }
   ],
   "source": [
    "get_classification_report(targets,preds)"
   ]
  },
  {
   "cell_type": "code",
   "execution_count": 32,
   "metadata": {},
   "outputs": [
    {
     "name": "stdout",
     "output_type": "stream",
     "text": [
      "40610\n",
      "(40610, 1)\n"
     ]
    },
    {
     "data": {
      "text/plain": [
       "array(['background', 'chimpanze'], dtype=object)"
      ]
     },
     "execution_count": 32,
     "metadata": {},
     "output_type": "execute_result"
    }
   ],
   "source": [
    "folder = 'A21'\n",
    "\n",
    "preds, targets = read_svm_results(svm_dir + 'predictions/' + folder + '/')\n",
    "targets[targets == 'chimp'] = 'chimpanze'\n",
    "np.unique(targets)"
   ]
  },
  {
   "cell_type": "code",
   "execution_count": 33,
   "metadata": {},
   "outputs": [
    {
     "name": "stdout",
     "output_type": "stream",
     "text": [
      "[[24113   582]\n",
      " [ 7919  7996]]\n"
     ]
    },
    {
     "data": {
      "image/png": "[encoded data removed]",
      "text/plain": [
       "<Figure size 432x288 with 2 Axes>"
      ]
     },
     "metadata": {
      "needs_background": "light"
     },
     "output_type": "display_data"
    }
   ],
   "source": [
    "get_confusion_matrix(targets,preds)"
   ]
  },
  {
   "cell_type": "code",
   "execution_count": 34,
   "metadata": {},
   "outputs": [
    {
     "data": {
      "text/html": [
       "<div>\n",
       "<style scoped>\n",
       "    .dataframe tbody tr th:only-of-type {\n",
       "        vertical-align: middle;\n",
       "    }\n",
       "\n",
       "    .dataframe tbody tr th {\n",
       "        vertical-align: top;\n",
       "    }\n",
       "\n",
       "    .dataframe thead th {\n",
       "        text-align: right;\n",
       "    }\n",
       "</style>\n",
       "<table border=\"1\" class=\"dataframe\">\n",
       "  <thead>\n",
       "    <tr style=\"text-align: right;\">\n",
       "      <th></th>\n",
       "      <th>precision</th>\n",
       "      <th>recall</th>\n",
       "      <th>f1-score</th>\n",
       "      <th>support</th>\n",
       "    </tr>\n",
       "  </thead>\n",
       "  <tbody>\n",
       "    <tr>\n",
       "      <th>background</th>\n",
       "      <td>0.752778</td>\n",
       "      <td>0.976432</td>\n",
       "      <td>0.850142</td>\n",
       "      <td>24695.000000</td>\n",
       "    </tr>\n",
       "    <tr>\n",
       "      <th>chimpanze</th>\n",
       "      <td>0.932152</td>\n",
       "      <td>0.502419</td>\n",
       "      <td>0.652921</td>\n",
       "      <td>15915.000000</td>\n",
       "    </tr>\n",
       "    <tr>\n",
       "      <th>accuracy</th>\n",
       "      <td>0.790667</td>\n",
       "      <td>0.790667</td>\n",
       "      <td>0.790667</td>\n",
       "      <td>0.790667</td>\n",
       "    </tr>\n",
       "    <tr>\n",
       "      <th>macro avg</th>\n",
       "      <td>0.842465</td>\n",
       "      <td>0.739426</td>\n",
       "      <td>0.751532</td>\n",
       "      <td>40610.000000</td>\n",
       "    </tr>\n",
       "    <tr>\n",
       "      <th>weighted avg</th>\n",
       "      <td>0.823075</td>\n",
       "      <td>0.790667</td>\n",
       "      <td>0.772851</td>\n",
       "      <td>40610.000000</td>\n",
       "    </tr>\n",
       "  </tbody>\n",
       "</table>\n",
       "</div>"
      ],
      "text/plain": [
       "              precision    recall  f1-score       support\n",
       "background     0.752778  0.976432  0.850142  24695.000000\n",
       "chimpanze      0.932152  0.502419  0.652921  15915.000000\n",
       "accuracy       0.790667  0.790667  0.790667      0.790667\n",
       "macro avg      0.842465  0.739426  0.751532  40610.000000\n",
       "weighted avg   0.823075  0.790667  0.772851  40610.000000"
      ]
     },
     "execution_count": 34,
     "metadata": {},
     "output_type": "execute_result"
    }
   ],
   "source": [
    "get_classification_report(targets,preds)"
   ]
  },
  {
   "cell_type": "code",
   "execution_count": 35,
   "metadata": {},
   "outputs": [
    {
     "name": "stdout",
     "output_type": "stream",
     "text": [
      "101988\n",
      "(101988, 1)\n"
     ]
    },
    {
     "data": {
      "text/plain": [
       "array(['background', 'chimpanze'], dtype=object)"
      ]
     },
     "execution_count": 35,
     "metadata": {},
     "output_type": "execute_result"
    }
   ],
   "source": [
    "folder = 'A38'\n",
    "\n",
    "preds, targets = read_svm_results(svm_dir + 'predictions/' + folder + '/')\n",
    "targets[targets == 'chimp'] = 'chimpanze'\n",
    "np.unique(targets)"
   ]
  },
  {
   "cell_type": "code",
   "execution_count": 36,
   "metadata": {},
   "outputs": [
    {
     "name": "stdout",
     "output_type": "stream",
     "text": [
      "[[71778  5030]\n",
      " [ 6974 18206]]\n"
     ]
    },
    {
     "data": {
      "image/png": "[encoded data removed]",
      "text/plain": [
       "<Figure size 432x288 with 2 Axes>"
      ]
     },
     "metadata": {
      "needs_background": "light"
     },
     "output_type": "display_data"
    }
   ],
   "source": [
    "get_confusion_matrix(targets,preds)"
   ]
  },
  {
   "cell_type": "code",
   "execution_count": 37,
   "metadata": {},
   "outputs": [
    {
     "data": {
      "text/html": [
       "<div>\n",
       "<style scoped>\n",
       "    .dataframe tbody tr th:only-of-type {\n",
       "        vertical-align: middle;\n",
       "    }\n",
       "\n",
       "    .dataframe tbody tr th {\n",
       "        vertical-align: top;\n",
       "    }\n",
       "\n",
       "    .dataframe thead th {\n",
       "        text-align: right;\n",
       "    }\n",
       "</style>\n",
       "<table border=\"1\" class=\"dataframe\">\n",
       "  <thead>\n",
       "    <tr style=\"text-align: right;\">\n",
       "      <th></th>\n",
       "      <th>precision</th>\n",
       "      <th>recall</th>\n",
       "      <th>f1-score</th>\n",
       "      <th>support</th>\n",
       "    </tr>\n",
       "  </thead>\n",
       "  <tbody>\n",
       "    <tr>\n",
       "      <th>background</th>\n",
       "      <td>0.911444</td>\n",
       "      <td>0.934512</td>\n",
       "      <td>0.922834</td>\n",
       "      <td>76808.0000</td>\n",
       "    </tr>\n",
       "    <tr>\n",
       "      <th>chimpanze</th>\n",
       "      <td>0.783526</td>\n",
       "      <td>0.723034</td>\n",
       "      <td>0.752065</td>\n",
       "      <td>25180.0000</td>\n",
       "    </tr>\n",
       "    <tr>\n",
       "      <th>accuracy</th>\n",
       "      <td>0.882300</td>\n",
       "      <td>0.882300</td>\n",
       "      <td>0.882300</td>\n",
       "      <td>0.8823</td>\n",
       "    </tr>\n",
       "    <tr>\n",
       "      <th>macro avg</th>\n",
       "      <td>0.847485</td>\n",
       "      <td>0.828773</td>\n",
       "      <td>0.837450</td>\n",
       "      <td>101988.0000</td>\n",
       "    </tr>\n",
       "    <tr>\n",
       "      <th>weighted avg</th>\n",
       "      <td>0.879862</td>\n",
       "      <td>0.882300</td>\n",
       "      <td>0.880672</td>\n",
       "      <td>101988.0000</td>\n",
       "    </tr>\n",
       "  </tbody>\n",
       "</table>\n",
       "</div>"
      ],
      "text/plain": [
       "              precision    recall  f1-score      support\n",
       "background     0.911444  0.934512  0.922834   76808.0000\n",
       "chimpanze      0.783526  0.723034  0.752065   25180.0000\n",
       "accuracy       0.882300  0.882300  0.882300       0.8823\n",
       "macro avg      0.847485  0.828773  0.837450  101988.0000\n",
       "weighted avg   0.879862  0.882300  0.880672  101988.0000"
      ]
     },
     "execution_count": 37,
     "metadata": {},
     "output_type": "execute_result"
    }
   ],
   "source": [
    "get_classification_report(targets,preds)"
   ]
  },
  {
   "cell_type": "code",
   "execution_count": 19,
   "metadata": {},
   "outputs": [
    {
     "name": "stdout",
     "output_type": "stream",
     "text": [
      "112168\n",
      "(112168, 1)\n",
      "40610\n",
      "(40610, 1)\n",
      "101988\n",
      "(101988, 1)\n"
     ]
    }
   ],
   "source": [
    "### Now the above recorders combined\n",
    "folders = ['A6', 'A21', 'A38']\n",
    "\n",
    "targets = pd.DataFrame()\n",
    "preds = []\n",
    "\n",
    "for folder in folders:\n",
    "    preds_tmp, targets_tmp = read_svm_results(svm_dir + 'predictions/' + folder + '/')\n",
    "    targets_tmp[targets_tmp == 'chimp'] = 'chimpanze'\n",
    "    targets = targets.append(targets_tmp, ignore_index=True)\n",
    "    preds.extend(preds_tmp)\n"
   ]
  },
  {
   "cell_type": "code",
   "execution_count": 20,
   "metadata": {},
   "outputs": [
    {
     "name": "stdout",
     "output_type": "stream",
     "text": [
      "[[0.90767751 0.09232249]\n",
      " [0.22869249 0.77130751]]\n"
     ]
    },
    {
     "data": {
      "image/png": "[encoded data removed]",
      "text/plain": [
       "<Figure size 576x432 with 2 Axes>"
      ]
     },
     "metadata": {
      "needs_background": "light"
     },
     "output_type": "display_data"
    }
   ],
   "source": [
    "get_confusion_matrix(targets,preds)"
   ]
  },
  {
   "cell_type": "code",
   "execution_count": 21,
   "metadata": {},
   "outputs": [
    {
     "data": {
      "text/html": [
       "<div>\n",
       "<style scoped>\n",
       "    .dataframe tbody tr th:only-of-type {\n",
       "        vertical-align: middle;\n",
       "    }\n",
       "\n",
       "    .dataframe tbody tr th {\n",
       "        vertical-align: top;\n",
       "    }\n",
       "\n",
       "    .dataframe thead th {\n",
       "        text-align: right;\n",
       "    }\n",
       "</style>\n",
       "<table border=\"1\" class=\"dataframe\">\n",
       "  <thead>\n",
       "    <tr style=\"text-align: right;\">\n",
       "      <th></th>\n",
       "      <th>precision</th>\n",
       "      <th>recall</th>\n",
       "      <th>f1-score</th>\n",
       "      <th>support</th>\n",
       "    </tr>\n",
       "  </thead>\n",
       "  <tbody>\n",
       "    <tr>\n",
       "      <th>background</th>\n",
       "      <td>0.885548</td>\n",
       "      <td>0.907678</td>\n",
       "      <td>0.896476</td>\n",
       "      <td>168388.000000</td>\n",
       "    </tr>\n",
       "    <tr>\n",
       "      <th>chimpanze</th>\n",
       "      <td>0.810807</td>\n",
       "      <td>0.771308</td>\n",
       "      <td>0.790564</td>\n",
       "      <td>86378.000000</td>\n",
       "    </tr>\n",
       "    <tr>\n",
       "      <th>accuracy</th>\n",
       "      <td>0.861441</td>\n",
       "      <td>0.861441</td>\n",
       "      <td>0.861441</td>\n",
       "      <td>0.861441</td>\n",
       "    </tr>\n",
       "    <tr>\n",
       "      <th>macro avg</th>\n",
       "      <td>0.848177</td>\n",
       "      <td>0.839493</td>\n",
       "      <td>0.843520</td>\n",
       "      <td>254766.000000</td>\n",
       "    </tr>\n",
       "    <tr>\n",
       "      <th>weighted avg</th>\n",
       "      <td>0.860207</td>\n",
       "      <td>0.861441</td>\n",
       "      <td>0.860567</td>\n",
       "      <td>254766.000000</td>\n",
       "    </tr>\n",
       "  </tbody>\n",
       "</table>\n",
       "</div>"
      ],
      "text/plain": [
       "              precision    recall  f1-score        support\n",
       "background     0.885548  0.907678  0.896476  168388.000000\n",
       "chimpanze      0.810807  0.771308  0.790564   86378.000000\n",
       "accuracy       0.861441  0.861441  0.861441       0.861441\n",
       "macro avg      0.848177  0.839493  0.843520  254766.000000\n",
       "weighted avg   0.860207  0.861441  0.860567  254766.000000"
      ]
     },
     "execution_count": 21,
     "metadata": {},
     "output_type": "execute_result"
    }
   ],
   "source": [
    "get_classification_report(targets,preds)"
   ]
  }
 ],
 "metadata": {
  "kernelspec": {
   "display_name": "Python 3 (ipykernel)",
   "language": "python",
   "name": "python3"
  },
  "language_info": {
   "codemirror_mode": {
    "name": "ipython",
    "version": 3
   },
   "file_extension": ".py",
   "mimetype": "text/x-python",
   "name": "python",
   "nbconvert_exporter": "python",
   "pygments_lexer": "ipython3",
   "version": "3.8.13"
  }
 },
 "nbformat": 4,
 "nbformat_minor": 4
}
